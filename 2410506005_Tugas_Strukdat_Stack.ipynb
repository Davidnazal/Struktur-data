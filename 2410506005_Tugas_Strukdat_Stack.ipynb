{
  "nbformat": 4,
  "nbformat_minor": 0,
  "metadata": {
    "colab": {
      "provenance": [],
      "authorship_tag": "ABX9TyNMaBX5+L33lF1TiGHN3TeG",
      "include_colab_link": true
    },
    "kernelspec": {
      "name": "python3",
      "display_name": "Python 3"
    },
    "language_info": {
      "name": "python"
    }
  },
  "cells": [
    {
      "cell_type": "markdown",
      "metadata": {
        "id": "view-in-github",
        "colab_type": "text"
      },
      "source": [
        "<a href=\"https://colab.research.google.com/github/Davidnazal/Struktur-data/blob/main/2410506005_Tugas_Strukdat_Stack.ipynb\" target=\"_parent\"><img src=\"https://colab.research.google.com/assets/colab-badge.svg\" alt=\"Open In Colab\"/></a>"
      ]
    },
    {
      "cell_type": "code",
      "execution_count": null,
      "metadata": {
        "colab": {
          "base_uri": "https://localhost:8080/"
        },
        "id": "IMa03SssC39J",
        "outputId": "3f15bc66-5cfa-4f57-f321-bf85ed9c494f"
      },
      "outputs": [
        {
          "output_type": "stream",
          "name": "stdout",
          "text": [
            "Keadaan awal cakram:\n",
            "A: [3, 2, 1]\n",
            "B: []\n",
            "C: []\n",
            "\n",
            "Pindahkan cakram 1 dari A ke C\n",
            "A: [3, 2]\n",
            "B: []\n",
            "C: [1]\n",
            "\n",
            "Pindahkan cakram 2 dari A ke B\n",
            "A: [3]\n",
            "B: [2]\n",
            "C: [1]\n",
            "\n",
            "Pindahkan cakram 1 dari C ke B\n",
            "A: [3]\n",
            "B: [2, 1]\n",
            "C: []\n",
            "\n",
            "Pindahkan cakram 3 dari A ke C\n",
            "A: []\n",
            "B: [2, 1]\n",
            "C: [3]\n",
            "\n",
            "Pindahkan cakram 1 dari B ke A\n",
            "A: [1]\n",
            "B: [2]\n",
            "C: [3]\n",
            "\n",
            "Batas langkah maksimal tercapai.\n",
            "Batas langkah maksimal tercapai.\n"
          ]
        }
      ],
      "source": [
        "class Stack:\n",
        "    def __init__(self):\n",
        "        self.cakram = []\n",
        "\n",
        "    def push(self, item):\n",
        "        self.cakram.append(item)\n",
        "\n",
        "    def pop(self):\n",
        "        if not self.is_empty():\n",
        "            return self.cakram.pop()\n",
        "        return None\n",
        "\n",
        "    def is_empty(self):\n",
        "        return len(self.cakram) == 0\n",
        "\n",
        "    def peek(self):\n",
        "        return self.cakram[-1] if not self.is_empty() else None\n",
        "\n",
        "    def size(self):\n",
        "        return len(self.cakram)\n",
        "\n",
        "def tampilkan_tiang(tiang_A, tiang_B, tiang_C):\n",
        "    print(f\"A: {tiang_A.cakram}\")\n",
        "    print(f\"B: {tiang_B.cakram}\")\n",
        "    print(f\"C: {tiang_C.cakram}\")\n",
        "    print(\"\")\n",
        "\n",
        "def hanoi(n, sumber, target, batas, langkah_maksimal, langkah=[0]):\n",
        "    if langkah[0] >= langkah_maksimal:\n",
        "        print(\"Batas langkah maksimal tercapai.\")\n",
        "        return\n",
        "\n",
        "    if n > 0:\n",
        "        hanoi(n - 1, sumber, batas, target, langkah_maksimal, langkah)\n",
        "\n",
        "        if langkah[0] < langkah_maksimal:\n",
        "            disk = sumber.pop()\n",
        "            target.push(disk)\n",
        "            langkah[0] += 1\n",
        "            print(f\"Pindahkan cakram {disk} dari {sumber.nama} ke {target.nama}\")\n",
        "            tampilkan_tiang(tiang_A, tiang_B, tiang_C)\n",
        "\n",
        "        hanoi(n - 1, batas, target, sumber, langkah_maksimal, langkah)\n",
        "\n",
        "# Inisialisasi stack untuk setiap tiang\n",
        "tiang_A = Stack()\n",
        "tiang_B = Stack()\n",
        "tiang_C = Stack()\n",
        "\n",
        "# Menamai setiap tiang untuk output yang lebih jelas\n",
        "tiang_A.nama = \"A\"\n",
        "tiang_B.nama = \"B\"\n",
        "tiang_C.nama = \"C\"\n",
        "\n",
        "# Menentukan jumlah cakram minimal (3)\n",
        "jumlah_cakram = 3\n",
        "for i in range(jumlah_cakram, 0, -1):\n",
        "    tiang_A.push(i)\n",
        "\n",
        "# Menentukan batas langkah dari NPM (05 → 5 langkah maksimal)\n",
        "langkah_maksimalimal = 5\n",
        "\n",
        "# Menampilkan keadaan awal\n",
        "print(\"Keadaan awal cakram:\")\n",
        "tampilkan_tiang(tiang_A, tiang_B, tiang_C)\n",
        "\n",
        "# Menjalankan Tower of Hanoi\n",
        "hanoi(jumlah_cakram, tiang_A, tiang_C, tiang_B, langkah_maksimalimal)\n"
      ]
    },
    {
      "cell_type": "code",
      "source": [],
      "metadata": {
        "id": "WhE5xIaNYwzJ"
      },
      "execution_count": null,
      "outputs": []
    }
  ]
}