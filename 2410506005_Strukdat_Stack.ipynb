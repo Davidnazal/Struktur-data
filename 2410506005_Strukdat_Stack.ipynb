{
  "nbformat": 4,
  "nbformat_minor": 0,
  "metadata": {
    "colab": {
      "provenance": [],
      "authorship_tag": "ABX9TyO08R/bXJ9KrnyicB0nC4yR",
      "include_colab_link": true
    },
    "kernelspec": {
      "name": "python3",
      "display_name": "Python 3"
    },
    "language_info": {
      "name": "python"
    }
  },
  "cells": [
    {
      "cell_type": "markdown",
      "metadata": {
        "id": "view-in-github",
        "colab_type": "text"
      },
      "source": [
        "<a href=\"https://colab.research.google.com/github/Davidnazal/Struktur-data/blob/main/2410506005_Strukdat_Stack.ipynb\" target=\"_parent\"><img src=\"https://colab.research.google.com/assets/colab-badge.svg\" alt=\"Open In Colab\"/></a>"
      ]
    },
    {
      "cell_type": "code",
      "source": [
        "class Stack:\n",
        "  def __init__(self):\n",
        "    self.stack = []\n",
        "\n",
        "  def push(self, item):\n",
        "    self.stack.append(item)\n",
        "\n",
        "# Contoh penggunaan\n",
        "s = Stack()\n",
        "s.push(5)\n",
        "print(s.stack)\n"
      ],
      "metadata": {
        "colab": {
          "base_uri": "https://localhost:8080/"
        },
        "id": "gTe6TZeRRmm7",
        "outputId": "35170d80-264d-45a0-d728-6657801f903f"
      },
      "execution_count": null,
      "outputs": [
        {
          "output_type": "stream",
          "name": "stdout",
          "text": [
            "[5]\n"
          ]
        }
      ]
    },
    {
      "cell_type": "code",
      "source": [
        "class Stack:\n",
        "  def __init__(self):\n",
        "    self.stack = []\n",
        "\n",
        "  def push(self, item):\n",
        "    self.stack.append(item)\n",
        "\n",
        "  def pop(self):\n",
        "    if len(self.stack) == 0:\n",
        "      return \"Stack kosong\"\n",
        "    return self.stack.pop()\n",
        "\n",
        "# Contoh penggunaan\n",
        "s = Stack()\n",
        "s.push(5)\n",
        "s.push(10)\n",
        "print(s.pop())\n",
        "print(s.stack)"
      ],
      "metadata": {
        "colab": {
          "base_uri": "https://localhost:8080/"
        },
        "id": "dc7dTYAWaMEa",
        "outputId": "3f45ab02-f7cc-4093-e5cd-6fc19fa2e3ac"
      },
      "execution_count": null,
      "outputs": [
        {
          "output_type": "stream",
          "name": "stdout",
          "text": [
            "10\n",
            "[5]\n"
          ]
        }
      ]
    },
    {
      "cell_type": "code",
      "source": [
        "class Stack:\n",
        "  def __init__(self):\n",
        "    self.stack = []\n",
        "\n",
        "  def push(self, item):\n",
        "    self.stack.append(item)\n",
        "\n",
        "  def peek(self):\n",
        "    if len(self.stack) == 0:\n",
        "      return \"Stack kosong\"\n",
        "    return self.stack[-1]\n",
        "\n",
        "# Contoh penggunaan\n",
        "s = Stack()\n",
        "s.push(5)\n",
        "s.push(10)\n",
        "print(s.peek())\n",
        "print(s.stack)\n"
      ],
      "metadata": {
        "colab": {
          "base_uri": "https://localhost:8080/"
        },
        "id": "3gyIvf6lbdJa",
        "outputId": "f4d2d74a-dc0d-4ec4-ad62-2c4e2c52d87f"
      },
      "execution_count": null,
      "outputs": [
        {
          "output_type": "stream",
          "name": "stdout",
          "text": [
            "10\n",
            "[5, 10]\n"
          ]
        }
      ]
    },
    {
      "cell_type": "code",
      "source": [
        "class Stack:\n",
        "  def __init__(self):\n",
        "    self.stack = []\n",
        "\n",
        "  def push(self, item):\n",
        "    self.stack.append(item)\n",
        "\n",
        "\n",
        "  def is_Empty(self):\n",
        "    return len(self.stack) == 0\n",
        "\n",
        "# Contoh penggunaan\n",
        "s = Stack()\n",
        "print(s.is_Empty())\n",
        "s.push(5)\n",
        "print(s.is_Empty())"
      ],
      "metadata": {
        "colab": {
          "base_uri": "https://localhost:8080/"
        },
        "id": "Dz7Kako9cDNy",
        "outputId": "7257ae50-a6d7-44f4-a042-ca7a23c3d22c"
      },
      "execution_count": null,
      "outputs": [
        {
          "output_type": "stream",
          "name": "stdout",
          "text": [
            "True\n",
            "False\n"
          ]
        }
      ]
    },
    {
      "cell_type": "code",
      "source": [
        "  class TextEditor:\n",
        "    def __init__(self):\n",
        "      self.history =[]\n",
        "\n",
        "    def write(self,text):\n",
        "      self.history.append(text)\n",
        "\n",
        "    def undo(self):\n",
        "      if self.history:\n",
        "          return f\"Undo: menghapus '{self.history.pop()}'\"\n",
        "      return \"tidak ada yang bisa di-undo\"\n",
        "# contoh penggunaan\n",
        "editor = TextEditor()\n",
        "editor.write(\"Halo, ini teks pertama\")\n",
        "editor.write(\"Ini teks kedua\")\n",
        "editor.write(\"Ini teks ketiga\")\n",
        "\n",
        "print(editor.undo())\n",
        "print(editor.undo())"
      ],
      "metadata": {
        "colab": {
          "base_uri": "https://localhost:8080/"
        },
        "id": "HmIZOZYxZNQq",
        "outputId": "14eb4032-7432-41e0-8f41-447361ee51ed"
      },
      "execution_count": null,
      "outputs": [
        {
          "output_type": "stream",
          "name": "stdout",
          "text": [
            "Undo: menghapus 'Ini teks ketiga'\n",
            "Undo: menghapus 'Ini teks kedua'\n"
          ]
        }
      ]
    },
    {
      "cell_type": "markdown",
      "source": [
        "# **Latihan 1**"
      ],
      "metadata": {
        "id": "dJPClvnQTf08"
      }
    },
    {
      "cell_type": "code",
      "source": [
        "class Kalkulator:\n",
        "    def __init__(self, nilai_awal):\n",
        "        self.nilai = nilai_awal\n",
        "        self.history = []\n",
        "\n",
        "    def operasi(self, operator, angka):\n",
        "        hasil_sebelumnya = self.nilai\n",
        "        if operator == \"+\":\n",
        "            self.nilai += angka\n",
        "        elif operator == \"-\":\n",
        "            self.nilai -= angka\n",
        "        elif operator == \"*\":\n",
        "            self.nilai *= angka\n",
        "        elif operator == \"/\":\n",
        "            if angka != 0:\n",
        "                self.nilai /= angka\n",
        "            else:\n",
        "                print(\"Tidak bisa bibagi nol.\")\n",
        "                return\n",
        "        else:\n",
        "            print(\"Operator tidak valid!\")\n",
        "            return\n",
        "\n",
        "        # Menyimpan operasi dalam stack\n",
        "        self.history.append((hasil_sebelumnya, operator, angka))\n",
        "        print(f\"Hasil setelah {operator} {angka} = {self.nilai}\")\n",
        "        print(\"\")\n",
        "\n",
        "    def undo(self):\n",
        "        if self.history:\n",
        "            hasil_sebelumnya, operator, angka = self.history.pop()\n",
        "            self.nilai = hasil_sebelumnya\n",
        "            print(f\"Undo operasi terakhir ({operator} {angka}), kembali ke: {self.nilai}\")\n",
        "        else:\n",
        "            print(\"Tidak ada operasi yang bisa di-undo.\")\n",
        "\n",
        "# Inisialisasi kalkulator dengan angka awal dari NPM\n",
        "calc = Kalkulator(5)\n",
        "\n",
        "while True:\n",
        "    print(f\"Nilai saat ini = {calc.nilai}\")\n",
        "    print(\"\")\n",
        "    print(\"Pilih operasi: [+] [-] [*] [/] [undo] atau [X] \")\n",
        "    pilihan = input(\"Masukkan operasi: \").strip().lower()\n",
        "\n",
        "    if pilihan in [\"+\", \"-\", \"*\", \"/\"]:\n",
        "        try:\n",
        "            angka = float(input(\"Masukkan angka: \"))\n",
        "            calc.operasi(pilihan, angka)\n",
        "        except ValueError:\n",
        "            print(\"Input harus berupa angka.\")\n",
        "    elif pilihan == \"undo\":\n",
        "        calc.undo()\n",
        "    elif pilihan == \"x\" or pilihan == \"X\":\n",
        "        print(\"Kalkulator ditutup.\")\n",
        "        break\n",
        "    else:\n",
        "        print(\"Perintah tidak dikenal. Coba lagi.\")"
      ],
      "metadata": {
        "colab": {
          "base_uri": "https://localhost:8080/"
        },
        "id": "PWIDZ-VUTnZ7",
        "outputId": "5c56efb9-8426-42c8-846d-880953deca9e"
      },
      "execution_count": 10,
      "outputs": [
        {
          "output_type": "stream",
          "name": "stdout",
          "text": [
            "Nilai saat ini = 5\n",
            "\n",
            "Pilih operasi: [+] [-] [*] [/] [undo] atau [X] \n",
            "Masukkan operasi: *\n",
            "Masukkan angka: 10\n",
            "Hasil setelah * 10.0 = 50.0\n",
            "\n",
            "Nilai saat ini = 50.0\n",
            "\n",
            "Pilih operasi: [+] [-] [*] [/] [undo] atau [X] \n",
            "Masukkan operasi: /\n",
            "Masukkan angka: 2\n",
            "Hasil setelah / 2.0 = 25.0\n",
            "\n",
            "Nilai saat ini = 25.0\n",
            "\n",
            "Pilih operasi: [+] [-] [*] [/] [undo] atau [X] \n",
            "Masukkan operasi: +\n",
            "Masukkan angka: 7\n",
            "Hasil setelah + 7.0 = 32.0\n",
            "\n",
            "Nilai saat ini = 32.0\n",
            "\n",
            "Pilih operasi: [+] [-] [*] [/] [undo] atau [X] \n",
            "Masukkan operasi: -\n",
            "Masukkan angka: 2\n",
            "Hasil setelah - 2.0 = 30.0\n",
            "\n",
            "Nilai saat ini = 30.0\n",
            "\n",
            "Pilih operasi: [+] [-] [*] [/] [undo] atau [X] \n",
            "Masukkan operasi: undo\n",
            "Undo operasi terakhir (- 2.0), kembali ke: 32.0\n",
            "Nilai saat ini = 32.0\n",
            "\n",
            "Pilih operasi: [+] [-] [*] [/] [undo] atau [X] \n",
            "Masukkan operasi: x\n",
            "Kalkulator ditutup.\n"
          ]
        }
      ]
    },
    {
      "cell_type": "code",
      "source": [
        "from collections import deque\n",
        "\n",
        "class BrowserHistory:\n",
        "  def __init__(self):\n",
        "    self.history = deque()\n",
        "\n",
        "  def visit(self,url):\n",
        "    self.history.append(url)\n",
        "    print(f\"mengunjungi: {url}\")\n",
        "\n",
        "  def back(self):\n",
        "    if self.history:\n",
        "        print(f\"kembali ke: {self.history.pop()}\")\n",
        "    else:\n",
        "        print(\"tidak ada yang bisa dikembalikan\")\n",
        "\n",
        "# contoh pengguanan\n",
        "browser = BrowserHistory()\n",
        "browser.visit(\"google.com\")\n",
        "browser.visit(\"youtube.com\")\n",
        "browser.visit(\"github.com\")\n",
        "\n",
        "browser.back()\n",
        "browser.back()"
      ],
      "metadata": {
        "colab": {
          "base_uri": "https://localhost:8080/"
        },
        "id": "cGse8eZ1YpvG",
        "outputId": "65c8c2a7-4dfa-4ffa-92fa-34c3938b05f6"
      },
      "execution_count": 4,
      "outputs": [
        {
          "output_type": "stream",
          "name": "stdout",
          "text": [
            "mengunjungi: google.com\n",
            "mengunjungi: youtube.com\n",
            "mengunjungi: github.com\n",
            "kembali ke: github.com\n",
            "kembali ke: youtube.com\n"
          ]
        }
      ]
    },
    {
      "cell_type": "markdown",
      "source": [
        "# **Latihan 2**"
      ],
      "metadata": {
        "id": "COdc5Jg9fshn"
      }
    },
    {
      "cell_type": "code",
      "source": [
        "from collections import deque\n",
        "\n",
        "class NavigasiAplikasi:\n",
        "    def __init__(self):\n",
        "        self.history = deque()  # Stack untuk menyimpan riwayat fitur\n",
        "\n",
        "    def mengunjungi_fitur(self, fitur):\n",
        "        self.history.append(fitur)\n",
        "        print(f\"Mengunjungi fitur: {fitur}\")\n",
        "\n",
        "    def back(self):\n",
        "        if len(self.history) :\n",
        "            print(f\"Kembali ke fitur: {self.history.pop()}\")\n",
        "        else:\n",
        "            print(\"Tidak ada fitur sebelumnya.\")\n",
        "\n",
        "# Nama aplikasi O05 karena NPM 05 dan bulan Oktober\n",
        "aplikasi = \"O05\"\n",
        "print(\"Menggunakan aplikasi\",aplikasi)\n",
        "# Contoh penggunaan\n",
        "navigasi = NavigasiAplikasi()\n",
        "navigasi.mengunjungi_fitur(\"Kamera\")\n",
        "navigasi.mengunjungi_fitur(\"Edit\")\n",
        "navigasi.mengunjungi_fitur(\"Tambah lagu \")\n",
        "\n",
        "# Menguji tombol Back\n",
        "navigasi.back()\n",
        "navigasi.back()\n",
        "navigasi.back()\n"
      ],
      "metadata": {
        "colab": {
          "base_uri": "https://localhost:8080/"
        },
        "id": "W_EM32JEjJF_",
        "outputId": "40c4c812-7b09-4e64-8ac9-25a8a4695b8b"
      },
      "execution_count": null,
      "outputs": [
        {
          "output_type": "stream",
          "name": "stdout",
          "text": [
            "Menggunakan aplikasi O05\n",
            "Mengunjungi fitur: Kamera\n",
            "Mengunjungi fitur: Edit\n",
            "Mengunjungi fitur: Tambah lagu \n",
            "Kembali ke fitur: Tambah lagu \n",
            "Kembali ke fitur: Edit\n",
            "Kembali ke fitur: Kamera\n"
          ]
        }
      ]
    },
    {
      "cell_type": "code",
      "source": [
        "from queue import LifoQueue\n",
        "\n",
        "class BackupSystem:\n",
        "  def __init__(self):\n",
        "    self.backups = LifoQueue()\n",
        "\n",
        "  def backup(self, version):\n",
        "    self.backups.put(version)\n",
        "\n",
        "  def latest_backup(self):\n",
        "    if not self.backups.empty():\n",
        "      return f\"Versi terbaru: {self.backups.queue[-1]}\"\n",
        "    return \"Tidak ada cadangan!\"\n",
        "\n",
        "#Contoh penggunaan\n",
        "backup_system = BackupSystem()\n",
        "backup_system.backup(\"Backup_1\")\n",
        "backup_system.backup(\"Backup_2\")\n",
        "backup_system.backup(\"Backup_3\")\n",
        "\n",
        "print(backup_system.latest_backup())"
      ],
      "metadata": {
        "colab": {
          "base_uri": "https://localhost:8080/"
        },
        "id": "UKk5N9Zp6U2B",
        "outputId": "f43e07ef-c0d2-4997-99a0-c6fae5a2f6cc"
      },
      "execution_count": null,
      "outputs": [
        {
          "output_type": "stream",
          "name": "stdout",
          "text": [
            "Versi terbaru: Backup_3\n"
          ]
        }
      ]
    },
    {
      "cell_type": "markdown",
      "source": [
        "# **Latihan 3**"
      ],
      "metadata": {
        "id": "D8URskvZCqg3"
      }
    },
    {
      "cell_type": "code",
      "source": [
        "from queue import LifoQueue\n",
        "\n",
        "class DraftEmail:\n",
        "    def __init__(self):\n",
        "        self.draft = LifoQueue()\n",
        "\n",
        "    def backup_draft(self, subjek, isi_email):\n",
        "        self.draft.put((subjek, isi_email))\n",
        "        print(f\"Draft email disimpan: {subjek}\")\n",
        "\n",
        "    def lihat_draft_terakhir(self):\n",
        "        if not self.draft.empty():\n",
        "            return f\"Draft Terakhir: {self.draft.queue[-1] }\"\n",
        "        return \"Tidak ada draft email!\"\n",
        "\n",
        "# Contoh penggunaan\n",
        "subjek = \"Da05\"\n",
        "email = DraftEmail()\n",
        "email.backup_draft(f\"{subjek} - Pengumpulan tugas\", \"Pengumpulan tugas minggu 1\")\n",
        "email.backup_draft(f\"{subjek} - Tugas Akhir\", \"Berikut adalah draft proposal tugas akhir saya.\")\n",
        "email.backup_draft(f\"{subjek} - Informasi Beasiswa\", \"Terkait informasi beasiswa, silakan cek lampiran.\")\n",
        "\n",
        "# Menguji fitur Lihat Draft Terakhir\n",
        "print(email.lihat_draft_terakhir())\n",
        "\n"
      ],
      "metadata": {
        "colab": {
          "base_uri": "https://localhost:8080/"
        },
        "id": "K8vaznGq5DNP",
        "outputId": "f782227b-3c9e-49c9-89b6-ea69f4ca17ca"
      },
      "execution_count": null,
      "outputs": [
        {
          "output_type": "stream",
          "name": "stdout",
          "text": [
            "Draft email disimpan: Da05 - Pengumpulan tugas\n",
            "Draft email disimpan: Da05 - Tugas Akhir\n",
            "Draft email disimpan: Da05 - Informasi Beasiswa\n",
            "Draft Terakhir: ('Da05 - Informasi Beasiswa', 'Terkait informasi beasiswa, silakan cek lampiran.')\n"
          ]
        }
      ]
    },
    {
      "cell_type": "code",
      "source": [
        "class CustomerService:\n",
        "  def __init__(self):\n",
        "    self.tickets = []\n",
        "\n",
        "  def add_ticket(self, ticket):\n",
        "    self.tickets.append(ticket)\n",
        "\n",
        "  def process_ticket(self):\n",
        "    if not self.is_empty():\n",
        "      return f\"Memproses tiket: {self.tickets.pop()}\"\n",
        "    return \"Tidak ada tiket yang harus diproses.\"\n",
        "\n",
        "  def is_empty(self):\n",
        "    return len(self.tickets) == 0\n",
        "\n",
        "# Contoh penggunaan\n",
        "service = CustomerService()\n",
        "service.add_ticket(\"Tiket 001\")\n",
        "service.add_ticket(\"Tiket 002\")\n",
        "\n",
        "print(service.process_ticket())\n",
        "print(service.is_empty())\n"
      ],
      "metadata": {
        "colab": {
          "base_uri": "https://localhost:8080/"
        },
        "id": "EvopS5A276__",
        "outputId": "8f559763-8d7f-4179-9a06-2cb4140610cc"
      },
      "execution_count": null,
      "outputs": [
        {
          "output_type": "stream",
          "name": "stdout",
          "text": [
            "Memproses tiket: Tiket 002\n",
            "False\n"
          ]
        }
      ]
    },
    {
      "cell_type": "markdown",
      "source": [
        "# **Latihan 4**"
      ],
      "metadata": {
        "id": "AUW_dcoWCjop"
      }
    },
    {
      "cell_type": "code",
      "source": [
        "class SistemAntreanTiket:\n",
        "    def __init__(self):\n",
        "        self.antrean_tiket = []\n",
        "\n",
        "    def beli_tiket(self, film):\n",
        "        self.antrean_tiket.append(film)\n",
        "        print(f\"Tiket dibeli untuk menonton film: {film}\")\n",
        "\n",
        "    def proses_tiket(self):\n",
        "        if self.antrean_tiket:\n",
        "            return f\"Memproses tiket: {self.antrean_tiket.pop()}\"\n",
        "        return \"Tidak ada tiket yang harus diproses.\"\n",
        "\n",
        "    def cek_antrean(self):\n",
        "        return len(self.antrean_tiket) == 0\n",
        "\n",
        "\n",
        "\n",
        "# Contoh penggunaan\n",
        "bioskop = SistemAntreanTiket()\n",
        "bioskop.beli_tiket(\"Bussiness Proposal\")\n",
        "bioskop.beli_tiket(\" 1 Kakak 7 Keponakan\")\n",
        "bioskop.beli_tiket(\"O05\")\n",
        "\n",
        "# Menguji sistem pemrosesan tiket\n",
        "print(bioskop.proses_tiket())  # Memproses tiket terakhir\n",
        "print(bioskop.proses_tiket())  # Memproses tiket kedua\n",
        "print(bioskop.cek_antrean())   # Cek apakah antrean kosong\n"
      ],
      "metadata": {
        "colab": {
          "base_uri": "https://localhost:8080/"
        },
        "id": "H01mKAQJ_0re",
        "outputId": "90dc01f7-3edb-4328-dfea-71da6569502c"
      },
      "execution_count": null,
      "outputs": [
        {
          "output_type": "stream",
          "name": "stdout",
          "text": [
            "Tiket dibeli untuk menonton film: Bussiness Proposal\n",
            "Tiket dibeli untuk menonton film:  1 Kakak 7 Keponakan\n",
            "Tiket dibeli untuk menonton film: O05\n",
            "Memproses tiket: O05\n",
            "Memproses tiket:  1 Kakak 7 Keponakan\n",
            "False\n"
          ]
        }
      ]
    },
    {
      "cell_type": "code",
      "source": [],
      "metadata": {
        "id": "Gk-wmgcKBIbN"
      },
      "execution_count": null,
      "outputs": []
    }
  ]
}