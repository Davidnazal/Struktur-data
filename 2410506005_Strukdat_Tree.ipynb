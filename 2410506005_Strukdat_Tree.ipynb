{
  "nbformat": 4,
  "nbformat_minor": 0,
  "metadata": {
    "colab": {
      "provenance": [],
      "authorship_tag": "ABX9TyP4ZDzeS8lzDAQLsrtUG/21",
      "include_colab_link": true
    },
    "kernelspec": {
      "name": "python3",
      "display_name": "Python 3"
    },
    "language_info": {
      "name": "python"
    }
  },
  "cells": [
    {
      "cell_type": "markdown",
      "metadata": {
        "id": "view-in-github",
        "colab_type": "text"
      },
      "source": [
        "<a href=\"https://colab.research.google.com/github/Davidnazal/Struktur-data/blob/main/2410506005_Strukdat_Tree.ipynb\" target=\"_parent\"><img src=\"https://colab.research.google.com/assets/colab-badge.svg\" alt=\"Open In Colab\"/></a>"
      ]
    },
    {
      "cell_type": "markdown",
      "source": [
        "**1. Membuat Binary Tree manual**\n"
      ],
      "metadata": {
        "id": "P5fhmW4TqMu0"
      }
    },
    {
      "cell_type": "code",
      "source": [
        "class Node:\n",
        "  def __init__(self, data):\n",
        "    self.data = data\n",
        "    self.left = None\n",
        "    self.right = None\n",
        "\n",
        "# membuat tree secara manual\n",
        "root = Node(1)\n",
        "root.left = Node(2)\n",
        "root.right = Node(3)\n",
        "root.left.left = Node(4)\n",
        "root.left.right = Node(5)\n",
        "\n",
        "#Fungsi inorder tranversal\n",
        "def inorder(root):\n",
        "  if root:\n",
        "    inorder(root.left)\n",
        "    print(root.data)\n",
        "    inorder(root.right)\n",
        "\n",
        "print(\"Hasil inorder transversal dari binary tree\")\n",
        "inorder(root)"
      ],
      "metadata": {
        "colab": {
          "base_uri": "https://localhost:8080/"
        },
        "id": "gqr9Wm2nqVoN",
        "outputId": "e58d9c6e-2f14-4aa1-9a40-f6859ed8382b"
      },
      "execution_count": 1,
      "outputs": [
        {
          "output_type": "stream",
          "name": "stdout",
          "text": [
            "Hasil inorder transversal dari binary tree\n",
            "4\n",
            "2\n",
            "5\n",
            "1\n",
            "3\n"
          ]
        }
      ]
    },
    {
      "cell_type": "markdown",
      "source": [
        "**2. Binary search tree**"
      ],
      "metadata": {
        "id": "DN-eha0Wvb3c"
      }
    },
    {
      "cell_type": "code",
      "source": [
        "class Node:\n",
        "  def __init__(self, data):\n",
        "    self.data = data\n",
        "    self.left = None\n",
        "    self.right = None\n",
        "\n",
        "class BinarySearchTree:\n",
        "  def __init__(self):\n",
        "    self.root = None\n",
        "  def insert(self, root, data):\n",
        "    if root is None:\n",
        "      return Node(data)\n",
        "    if data < root.data:\n",
        "      root.left = self.insert(root.left, data)\n",
        "    else:\n",
        "      root.right = self.insert(root.right, data)\n",
        "    return root\n",
        "\n",
        "bst = BinarySearchTree()\n",
        "root = None\n",
        "data_list = [50, 30, 70, 20, 40, 60, 80]\n",
        "for value in data_list:\n",
        "  root = bst.insert(root, value)"
      ],
      "metadata": {
        "id": "IrzclOlbvHyd"
      },
      "execution_count": null,
      "outputs": []
    },
    {
      "cell_type": "markdown",
      "source": [
        "**3. Transversal pada BST**"
      ],
      "metadata": {
        "id": "G1RPtQhrwlaM"
      }
    },
    {
      "cell_type": "code",
      "source": [
        "def inorder(node):\n",
        "  if node:\n",
        "    inorder(node.left)\n",
        "    print(node.data, end=' ')\n",
        "    inorder(node.right)\n",
        "\n",
        "def preorder(node):\n",
        "  if node:\n",
        "    print(node.data, end=' ')\n",
        "    preorder(node.left)\n",
        "    preorder(node.right)\n",
        "\n",
        "def postorder(node):\n",
        "  if node:\n",
        "    postorder(node.left)\n",
        "    postorder(node.right)\n",
        "    print(node.data, end=' ')\n",
        "\n",
        "print(\"Inorder traversal:\")\n",
        "inorder(root)\n",
        "print(\"\\nPreorder traversal:\")\n",
        "preorder(root)\n",
        "print(\"\\nPostorder traversal:\")\n",
        "postorder(root)"
      ],
      "metadata": {
        "colab": {
          "base_uri": "https://localhost:8080/"
        },
        "id": "fh-c9FE9wYLd",
        "outputId": "e0071ec7-cfac-40da-dc0e-7252ae514639"
      },
      "execution_count": null,
      "outputs": [
        {
          "output_type": "stream",
          "name": "stdout",
          "text": [
            "Inorder traversal:\n",
            "20 30 40 50 60 70 80 \n",
            "Preorder traversal:\n",
            "50 30 20 40 70 60 80 \n",
            "Postorder traversal:\n",
            "20 40 30 60 80 70 50 "
          ]
        }
      ]
    },
    {
      "cell_type": "markdown",
      "source": [
        "**4. Pencarian Nilai dalam BST**"
      ],
      "metadata": {
        "id": "3qLtK27sxMoU"
      }
    },
    {
      "cell_type": "code",
      "source": [
        "def search(node, key):\n",
        "  if node is None or node.data == key:\n",
        "    return node\n",
        "  if key < node.data:\n",
        "    return search(node.left, key)\n",
        "  return search(node.right, key)\n",
        "\n",
        "#Uji pencarian\n",
        "key = 60\n",
        "result = search(root, key)\n",
        "if result:\n",
        "  print(f\"{key} ditemukan dalam tree\")\n",
        "else:\n",
        "  print(f\"{key} tidak ditemukan\")\n",
        "\n",
        "key = 25\n",
        "result = search(root, key)\n",
        "if result:\n",
        "  print(f\"{key} ditemukan dalam tree\")\n",
        "else:\n",
        "  print(f\"{key} tidak ditemukan\")"
      ],
      "metadata": {
        "colab": {
          "base_uri": "https://localhost:8080/"
        },
        "id": "JPmkLstvxB8l",
        "outputId": "0693abe5-99ec-4ccc-a5fd-074a89a3274f"
      },
      "execution_count": null,
      "outputs": [
        {
          "output_type": "stream",
          "name": "stdout",
          "text": [
            "60 ditemukan dalam tree\n",
            "25 tidak ditemukan\n"
          ]
        }
      ]
    },
    {
      "cell_type": "markdown",
      "source": [
        "# **Tugas 1**"
      ],
      "metadata": {
        "id": "1FbbIqCRyZZc"
      }
    },
    {
      "cell_type": "code",
      "source": [
        "# Struktur Tree berdasarkan identitas saya\n",
        "class Node:\n",
        "    def __init__(self, data):\n",
        "        self.data = data\n",
        "        self.left = None\n",
        "        self.right = None\n",
        "\n",
        "def inorder_traversal(root):\n",
        "    if root:\n",
        "        inorder_traversal(root.left)\n",
        "        print(root.data, end=' ')\n",
        "        inorder_traversal(root.right)\n",
        "\n",
        "# Membuat node sesuai identitas\n",
        "root = Node(18)             # Jumlah huruf pada (david nazal farihin)\n",
        "root.left = Node(7)         # Jumlah huruf vokal a,i,u,e,o pada nama\n",
        "root.right = Node(5)        # Dua digit terakhir dari NPM (05)\n",
        "root.left.left = Node(8)    # Tanggal lahir (8)\n",
        "root.right.right = Node(10) # Bulan lahir (10/oktober)\n",
        "\n",
        "# Menampilkan tree dengan inorder traversal\n",
        "print(\"Inorder Traversal:\")\n",
        "inorder_traversal(root)\n"
      ],
      "metadata": {
        "colab": {
          "base_uri": "https://localhost:8080/"
        },
        "id": "ZFzH8KtzyM5s",
        "outputId": "ca39816b-9986-4d41-8f33-4d0d4ec71c87"
      },
      "execution_count": null,
      "outputs": [
        {
          "output_type": "stream",
          "name": "stdout",
          "text": [
            "Inorder Traversal:\n",
            "8 7 18 5 10 "
          ]
        }
      ]
    },
    {
      "cell_type": "markdown",
      "source": [
        "# **Tugas 2**"
      ],
      "metadata": {
        "id": "OlA7HwZK0IbL"
      }
    },
    {
      "cell_type": "code",
      "source": [
        "# Program BST berdasarkan identitas saya\n",
        "\n",
        "class Node:\n",
        "    def __init__(self, data):  # Konstruktor untuk membuat node baru\n",
        "        self.data = data       # Menyimpan data node\n",
        "        self.left = None       # Inisialisasi untuk anak kiri\n",
        "        self.right = None      # Inisialisasi untuk anak kanan\n",
        "\n",
        "# Menyisipkan data ke dalam BST\n",
        "def insert(root, key):\n",
        "    if root is None:                  # Jika pohon kosong, buat node baru\n",
        "        return Node(key)\n",
        "    if key < root.data:               # Jika key lebih kecil, masukkan ke subpohon kiri\n",
        "        root.left = insert(root.left, key)\n",
        "    else:                             # Jika key lebih besar/sama, masukkan ke subpohon kanan\n",
        "        root.right = insert(root.right, key)\n",
        "    return root                       # Kembalikan root setelah penyisipan\n",
        "\n",
        "# Traversal\n",
        "def inorder(root):\n",
        "    if root:                         # Jika node tidak kosong\n",
        "        inorder(root.left)           # Kunjungi subpohon kiri\n",
        "        print(root.data, end=' ')    # Cetak data node\n",
        "        inorder(root.right)          # Kunjungi subpohon kanan\n",
        "\n",
        "def preorder(root):\n",
        "    if root:                         # Jika node tidak kosong\n",
        "        print(root.data, end=' ')    # Cetak data node\n",
        "        preorder(root.left)          # Kunjungi subpohon kiri\n",
        "        preorder(root.right)         # Kunjungi subpohon kanan\n",
        "\n",
        "def postorder(root):\n",
        "    if root:                         # Jika node tidak kosong\n",
        "        postorder(root.left)         # Kunjungi subpohon kiri\n",
        "        postorder(root.right)        # Kunjungi subpohon kanan\n",
        "        print(root.data, end=' ')    # Cetak data node\n",
        "\n",
        "# Fitur pencarian dalam BST\n",
        "def search(root, key):\n",
        "    if root is None:                 # Jika node kosong, data tidak ditemukan\n",
        "        return False\n",
        "    if root.data == key:             # Jika data cocok, kembalikan True\n",
        "        return True\n",
        "    elif key < root.data:            # Jika key lebih kecil, cari di subpohon kiri\n",
        "        return search(root.left, key)\n",
        "    else:                            # Jika key lebih besar, cari di subpohon kanan\n",
        "        return search(root.right, key)\n",
        "\n",
        "# Data BST dari identitas\n",
        "data = [5, 8, 10, 100, 97, 29, 69]   # List data yang akan dimasukkan ke BST\n",
        "\n",
        "# Membuat BST\n",
        "bst_root = None                      # Inisialisasi root BST\n",
        "for num in data:                     # Iterasi setiap angka dalam data\n",
        "    bst_root = insert(bst_root, num) # Masukkan angka ke BST\n",
        "\n",
        "# Output inorder traversal\n",
        "print(\"Inorder Traversal:\")          # Cetak label traversal inorder\n",
        "inorder(bst_root)                    # Memanggil fungsi inorder traversal\n",
        "\n",
        "# Output preorder transversal\n",
        "print(\"\\nPreorder Traversal:\")       # Cetak label traversal preorder\n",
        "preorder(bst_root)                   # Memanggil fungsi preorder traversal\n",
        "\n",
        "# Output postorder transversal\n",
        "print(\"\\nPostorder Traversal:\")      # Cetak label traversal postorder\n",
        "postorder(bst_root)                  # Memanggil fungsi postorder traversal\n",
        "\n",
        "# Fitur pencarian angka\n",
        "search_target_1 = 5    # dua digit terakhir dari NPM (005)\n",
        "search_target_2 = 42   # angka tidak ada dalam daftar\n",
        "\n",
        "# Mencetak NPM\n",
        "if search(bst_root, search_target_1):                         # Cek apakah target 1 ditemukan\n",
        "    print(f\"\\n\\nPencarian angka {search_target_1} ditemukan\")\n",
        "else:                                                         # Jika tidak ditemukan\n",
        "    print(f\"\\n\\nPencarian angka {search_target_1} tidak ditemukan\")\n",
        "\n",
        "# mencetak angka tidak ada dalam daftar\n",
        "if search(bst_root, search_target_2):                         # Cek apakah target 2 ditemukan\n",
        "    print(f\"Pencarian angka {search_target_2} ditemukan\")\n",
        "else:                                                         # Jika tidak ditemukan\n",
        "    print(f\"Pencarian angka {search_target_2} tidak ditemukan\")\n"
      ],
      "metadata": {
        "colab": {
          "base_uri": "https://localhost:8080/"
        },
        "id": "OGgapqv-SRBt",
        "outputId": "9756e055-b9c5-41c7-f3fb-eb4e42be6f2e"
      },
      "execution_count": 14,
      "outputs": [
        {
          "output_type": "stream",
          "name": "stdout",
          "text": [
            "Inorder Traversal:\n",
            "5 8 10 29 69 97 100 \n",
            "Preorder Traversal:\n",
            "5 8 10 100 97 29 69 \n",
            "Postorder Traversal:\n",
            "69 29 97 100 10 8 5 \n",
            "\n",
            "Pencarian angka 5 ditemukan\n",
            "Pencarian angka 42 tidak ditemukan\n"
          ]
        }
      ]
    },
    {
      "cell_type": "code",
      "source": [],
      "metadata": {
        "id": "No0T9htBmFhK"
      },
      "execution_count": null,
      "outputs": []
    }
  ]
}