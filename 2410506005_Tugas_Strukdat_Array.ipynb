{
  "nbformat": 4,
  "nbformat_minor": 0,
  "metadata": {
    "colab": {
      "provenance": [],
      "authorship_tag": "ABX9TyOV1UqnhzwONcbpjRiIeK+U",
      "include_colab_link": true
    },
    "kernelspec": {
      "name": "python3",
      "display_name": "Python 3"
    },
    "language_info": {
      "name": "python"
    }
  },
  "cells": [
    {
      "cell_type": "markdown",
      "metadata": {
        "id": "view-in-github",
        "colab_type": "text"
      },
      "source": [
        "<a href=\"https://colab.research.google.com/github/Davidnazal/Struktur-data/blob/main/2410506005_Tugas_Strukdat_Array.ipynb\" target=\"_parent\"><img src=\"https://colab.research.google.com/assets/colab-badge.svg\" alt=\"Open In Colab\"/></a>"
      ]
    },
    {
      "cell_type": "code",
      "execution_count": null,
      "metadata": {
        "colab": {
          "base_uri": "https://localhost:8080/"
        },
        "id": "KROUabn6BZXe",
        "outputId": "0742a19e-24f5-4cf6-fec1-b8b662f7f9c5"
      },
      "outputs": [
        {
          "output_type": "stream",
          "name": "stdout",
          "text": [
            "Selamat datang di Treasue Hunt! Peta memiliki 10 lokasi (0 hingga 9).\n",
            "Masukkan lokasi harta karun (0-9):2\n",
            "\n",
            "Harta karun telah disembunyikan! Sekarang giliran pemain menebak.\n",
            "Cobalah unruk menemukan harta karun dengan menebak index yang benar.\n",
            "\n",
            "Peta saat ini:  ['_', '_', '_', '_', '_', '_', '_', '_', '_', '_']\n",
            "Masukkan index tebakanmu (0-{size-1}):\n",
            "2\n",
            "Selamat! Kamu menemukan harta karun di lokasi: 2\n",
            "Terimakasih sudah bermain!\n"
          ]
        }
      ],
      "source": [
        "# Ukuran peta\n",
        "size = 10\n",
        "\n",
        "# Membuat peta dengan harta karun tersembunyi\n",
        "treasure_map = [\"_\" for _ in range(size)]\n",
        "\n",
        "# Tentukan lokasi harta karun secara manual\n",
        "print(f\"Selamat datang di Treasue Hunt! Peta memiliki {size} lokasi (0 hingga {size -1}).\")\n",
        "treasure_index = int (input(f\"Masukkan lokasi harta karun (0-{size-1}):\"))\n",
        "while treasure_index <0 or treasure_index >= size:\n",
        "  print (\"Lokasi tidak valid. Masukkan angka dalam rentang yang benar.\")\n",
        "  treasure_index = int (input(f\"Masukkan lokasi harta karun (0-{size-1}):\"))\n",
        "\n",
        "treasure_map[treasure_index] = \"X\" # Menyembunyikan harta karun di lokasi yang dipilih\n",
        "\n",
        "# Fungsi memulai permainan\n",
        "def play_treasure_hunt():\n",
        "  print (\"\\nHarta karun telah disembunyikan! Sekarang giliran pemain menebak.\")\n",
        "  print(\"Cobalah unruk menemukan harta karun dengan menebak index yang benar.\")\n",
        "\n",
        "  # Loop permainan\n",
        "  while True:\n",
        "    # Menampilkan peta tersembunyi kepada pemain\n",
        "    print(\"\\nPeta saat ini: \", [\"_\" for _ in range(size)]) # Peta tersembunyi\n",
        "    # Input pemain\n",
        "    try:\n",
        "      guess = int(input(\"Masukkan index tebakanmu (0-{size-1}):\\n\"))\n",
        "      # Validasi input\n",
        "      if guess <0 or guess >= size:\n",
        "        print (\"Indeks tidak valid, pilih antara 0 hingga \",size-1)\n",
        "        continue\n",
        "      # Mengecek apakah tebakan benar\n",
        "      if treasure_map[guess] == \"X\":\n",
        "        print (\"Selamat! Kamu menemukan harta karun di lokasi:\",guess)\n",
        "        break\n",
        "      else:\n",
        "        print(\"X Tidak ada hartakarun di lokasi ini. Coba lagi!\")\n",
        "    except ValueError:\n",
        "        print (\"Masukkan angka yang valid:\")\n",
        "        continue\n",
        "\n",
        "  print(\"Terimakasih sudah bermain!\")\n",
        "\n",
        "# Jalankan permainan\n",
        "play_treasure_hunt()\n",
        "\n"
      ]
    },
    {
      "cell_type": "code",
      "source": [
        "# Mengacak lokasi harta karun\n",
        "import random\n",
        "\n",
        "# Ukuran peta\n",
        "size = int(input(\"Masukkan ukuran peta:\"))\n",
        "\n",
        "# Membuat peta dengan harta karun tersembunyi\n",
        "treasure_map = [\"_\" for _ in range(size)]\n",
        "\n",
        "# Tentukan lokasi harta karun secara otomatis\n",
        "print(f\"Selamat datang di Treasue Hunt! Peta memiliki {size} lokasi (0 hingga {size -1}).\")\n",
        "treasure_index = random.randint(0,size-1)\n",
        "while treasure_index <0 or treasure_index >= size:\n",
        "  print (\"Lokasi tidak valid. Masukkan angka dalam rentang yang benar.\")\n",
        "  treasure_index = int (input(f\"Masukkan lokasi harta karun (0-{size-1}):\"))\n",
        "\n",
        "treasure_map[treasure_index] = \"X\" # Menyembunyikan harta karun di lokasi yang dipilih\n",
        "\n",
        "# Fungsi memulai permainan\n",
        "def play_treasure_hunt():\n",
        "  print (\"\\nHarta karun telah disembunyikan! Sekarang giliran pemain menebak.\")\n",
        "  print(\"Cobalah unruk menemukan harta karun dengan menebak index yang benar.\")\n",
        "\n",
        "  # Loop permainan\n",
        "  while True:\n",
        "    # Menampilkan peta tersembunyi kepada pemain\n",
        "    print(\"\\nPeta saat ini: \", [\"_\" for _ in range(size)]) # Peta tersembunyi\n",
        "    # Input pemain\n",
        "    try:\n",
        "      guess = int(input(\"Masukkan index tebakanmu (0-{size-1}):\\n\"))\n",
        "      # Validasi input\n",
        "      if guess <0 or guess >= size:\n",
        "        print (\"Indeks tidak valid, pilih antara 0 hingga \",size-1)\n",
        "        continue\n",
        "      # Mengecek apakah tebakan benar\n",
        "      if treasure_map[guess] == \"X\":\n",
        "        print (\"Selamat! Kamu menemukan harta karun di lokasi:\",guess)\n",
        "        break\n",
        "      else:\n",
        "        print(\"X Tidak ada hartakarun di lokasi ini. Coba lagi!\")\n",
        "    except ValueError:\n",
        "        print (\"Masukkan angka yang valid:\")\n",
        "        continue\n",
        "\n",
        "  print(\"Terimakasih sudah bermain!\")\n",
        "\n",
        "# Jalankan permainan\n",
        "play_treasure_hunt()\n",
        "\n"
      ],
      "metadata": {
        "colab": {
          "base_uri": "https://localhost:8080/"
        },
        "id": "OfrVIdUCHbfK",
        "outputId": "a2a97968-4fcd-423f-de5a-a12e0dd0b11d"
      },
      "execution_count": null,
      "outputs": [
        {
          "output_type": "stream",
          "name": "stdout",
          "text": [
            "Masukkan ukuran peta:5\n",
            "Selamat datang di Treasue Hunt! Peta memiliki 5 lokasi (0 hingga 4).\n",
            "\n",
            "Harta karun telah disembunyikan! Sekarang giliran pemain menebak.\n",
            "Cobalah unruk menemukan harta karun dengan menebak index yang benar.\n",
            "\n",
            "Peta saat ini:  ['_', '_', '_', '_', '_']\n",
            "Masukkan index tebakanmu (0-{size-1}):\n",
            "3\n",
            "X Tidak ada hartakarun di lokasi ini. Coba lagi!\n",
            "\n",
            "Peta saat ini:  ['_', '_', '_', '_', '_']\n",
            "Masukkan index tebakanmu (0-{size-1}):\n",
            "1\n",
            "X Tidak ada hartakarun di lokasi ini. Coba lagi!\n",
            "\n",
            "Peta saat ini:  ['_', '_', '_', '_', '_']\n",
            "Masukkan index tebakanmu (0-{size-1}):\n",
            "2\n",
            "X Tidak ada hartakarun di lokasi ini. Coba lagi!\n",
            "\n",
            "Peta saat ini:  ['_', '_', '_', '_', '_']\n",
            "Masukkan index tebakanmu (0-{size-1}):\n",
            "4\n",
            "X Tidak ada hartakarun di lokasi ini. Coba lagi!\n",
            "\n",
            "Peta saat ini:  ['_', '_', '_', '_', '_']\n",
            "Masukkan index tebakanmu (0-{size-1}):\n",
            "0\n",
            "Selamat! Kamu menemukan harta karun di lokasi: 0\n",
            "Terimakasih sudah bermain!\n"
          ]
        }
      ]
    }
  ]
}