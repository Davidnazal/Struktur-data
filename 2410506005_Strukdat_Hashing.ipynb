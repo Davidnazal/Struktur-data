{
  "nbformat": 4,
  "nbformat_minor": 0,
  "metadata": {
    "colab": {
      "provenance": [],
      "authorship_tag": "ABX9TyMmGhBQ0hr647EjJ8MREkDg",
      "include_colab_link": true
    },
    "kernelspec": {
      "name": "python3",
      "display_name": "Python 3"
    },
    "language_info": {
      "name": "python"
    }
  },
  "cells": [
    {
      "cell_type": "markdown",
      "metadata": {
        "id": "view-in-github",
        "colab_type": "text"
      },
      "source": [
        "<a href=\"https://colab.research.google.com/github/Davidnazal/Struktur-data/blob/main/2410506005_Strukdat_Hashing.ipynb\" target=\"_parent\"><img src=\"https://colab.research.google.com/assets/colab-badge.svg\" alt=\"Open In Colab\"/></a>"
      ]
    },
    {
      "cell_type": "markdown",
      "source": [
        "**Implementasi Hash Table sederhana**"
      ],
      "metadata": {
        "id": "qbrVDg2kxs6G"
      }
    },
    {
      "cell_type": "code",
      "source": [
        "class SimpleHashTable:\n",
        "    def __init__(self, size):\n",
        "        self.size = size\n",
        "        self.table = [None] * size\n",
        "\n",
        "    def hash_function(self, key):\n",
        "      return hash(key) % self.size\n",
        "\n",
        "    def insert(self, key, value):\n",
        "        index = self.hash_function(key)\n",
        "        self.table[index] = value\n",
        "\n",
        "    def search(self, key):\n",
        "        index = self.hash_function(key)\n",
        "        return self.table[index]\n",
        "\n",
        "# Contoh penggunaan\n",
        "ht = SimpleHashTable(10)\n",
        "ht.insert(\"apel\", 100)\n",
        "ht.insert(\"pisang\", 200)\n",
        "\n",
        "print(\"Nilai untuk 'apel':\", ht.search(\"apel\"))\n",
        "print(\"Nilai untuk 'pisang':\", ht.search(\"pisang\"))\n"
      ],
      "metadata": {
        "colab": {
          "base_uri": "https://localhost:8080/"
        },
        "id": "ROhPa_LZx21-",
        "outputId": "44a61ba1-ab70-48f2-a549-dab2bc56da78"
      },
      "execution_count": null,
      "outputs": [
        {
          "output_type": "stream",
          "name": "stdout",
          "text": [
            "Nilai untuk 'apel': 200\n",
            "Nilai untuk 'pisang': 200\n"
          ]
        }
      ]
    },
    {
      "cell_type": "markdown",
      "source": [
        "**Penanganan Collision dengan linear probing**"
      ],
      "metadata": {
        "id": "U6M0NDOlzB7_"
      }
    },
    {
      "cell_type": "code",
      "source": [
        "class LinearProbingHashTable:\n",
        "    def __init__(self, size):\n",
        "        self.size = size\n",
        "        self.table = [None] * size\n",
        "\n",
        "    def hash_function(self, key):\n",
        "        return hash(key) % self.size\n",
        "\n",
        "    def insert(self, key, value):\n",
        "        index = self.hash_function(key)\n",
        "        original_index = index\n",
        "\n",
        "        while self.table[index] is not None:\n",
        "            if self.table[index][0] == key:\n",
        "                break\n",
        "            index = (index + 1) % self.size\n",
        "            if index == original_index:\n",
        "                raise Exception (\"has tabel penuh\")\n",
        "\n",
        "        self.table[index] = (key, value)\n",
        "\n",
        "    def search(self, key):\n",
        "        index = self.hash_function(key)\n",
        "        original_index = index\n",
        "\n",
        "        while self.table[index] is not None:\n",
        "            if self.table[index][0] == key:\n",
        "                return self.table[index][1]\n",
        "            index = (index + 1) % self.size\n",
        "            if index == original_index:\n",
        "                break\n",
        "        return None\n",
        "\n",
        "# Contoh ppenggunaan\n",
        "ht = LinearProbingHashTable(10)\n",
        "ht.insert(\"apel\", 100)\n",
        "ht.insert(\"pisang\", 200)\n",
        "ht.insert(\"melon\", 300)\n",
        "\n",
        "print(\"Nilai untuk 'apel':\", ht.search(\"apel\"))\n",
        "print(\"Nilai untuk 'melon':\", ht.search(\"melon\"))"
      ],
      "metadata": {
        "colab": {
          "base_uri": "https://localhost:8080/"
        },
        "id": "o0LRuXo-zNgm",
        "outputId": "3eebd014-0ef3-40f3-b537-472a70dafb2c"
      },
      "execution_count": null,
      "outputs": [
        {
          "output_type": "stream",
          "name": "stdout",
          "text": [
            "Nilai untuk 'apel': 100\n",
            "Nilai untuk 'melon': 300\n"
          ]
        }
      ]
    },
    {
      "cell_type": "markdown",
      "source": [
        "**Penanganan Collision dengan Chaining**"
      ],
      "metadata": {
        "id": "SdHIlyyD0RE9"
      }
    },
    {
      "cell_type": "code",
      "source": [
        "class ChainingHashTable:\n",
        "    def __init__(self, size):\n",
        "      self.size = size\n",
        "      self.table = [[] for _ in range(size)]\n",
        "\n",
        "    def hash_function(self, key):\n",
        "      return hash(key) % self.size\n",
        "\n",
        "    def insert_function(self, key, value):\n",
        "        index = self.hash_function(key)\n",
        "        for i, (k, v) in enumerate(self.table[index]):\n",
        "          if k == key:\n",
        "            self.table[index][i] = (key, value)\n",
        "            return\n",
        "        self.table[index].append((key, value))\n",
        "\n",
        "    def search_function(self, key):\n",
        "        index = self.hash_function(key)\n",
        "        for k, v in self.table[index]:\n",
        "          if k == key:\n",
        "            return v\n",
        "        return None\n",
        "\n",
        "# Contoh penggunaan\n",
        "ht = ChainingHashTable(5)\n",
        "ht.insert_function(\"apel\", 100)\n",
        "ht.insert_function(\"pisang\", 200)\n",
        "ht.insert_function(\"melon\", 300)\n",
        "\n",
        "print(\"Nilai untuk 'apel':\", ht.search_function(\"apel\"))\n",
        "print(\"Nilai untuk 'melon':\", ht.search_function(\"melon\"))"
      ],
      "metadata": {
        "colab": {
          "base_uri": "https://localhost:8080/"
        },
        "id": "N2k0sanm0Luf",
        "outputId": "06bf15f1-8f74-4b7d-d87f-960d82eeab59"
      },
      "execution_count": null,
      "outputs": [
        {
          "output_type": "stream",
          "name": "stdout",
          "text": [
            "Nilai untuk 'apel': 100\n",
            "Nilai untuk 'melon': 300\n"
          ]
        }
      ]
    },
    {
      "cell_type": "markdown",
      "source": [
        "**Tugas**"
      ],
      "metadata": {
        "id": "D5BFP4ym2v4F"
      }
    },
    {
      "cell_type": "code",
      "source": [
        "class LinearProbingHashTable:\n",
        "    def __init__(self, size):\n",
        "        self.size = size\n",
        "        self.table = [None] * size\n",
        "\n",
        "    def hash_function(self, key):\n",
        "        return hash(key) % self.size\n",
        "\n",
        "    def insert(self, key, value):\n",
        "        index = self.hash_function(key)\n",
        "        original_index = index\n",
        "        while self.table[index] is not None:\n",
        "            if self.table[index][0] == key:\n",
        "                break\n",
        "            index = (index + 1) % self.size\n",
        "            if index == original_index:\n",
        "                raise Exception(\"Hash table penuh\")\n",
        "        self.table[index] = (key, value)\n",
        "\n",
        "    def __str__(self):\n",
        "        return str(self.table)\n",
        "\n",
        "\n",
        "# Membuat objek\n",
        "ht = LinearProbingHashTable(5)\n",
        "\n",
        "# b. Masukkan data\n",
        "data = [(\"A\", 10), (\"B\", 20), (\"C\", 30), (\"D\", 40), (\"E\", 50)]\n",
        "for key, value in data:\n",
        "    ht.insert(key, value)\n",
        "\n",
        "# c. Cetak isi tabel\n",
        "print(\"Isi tabel hash:\", ht)\n"
      ],
      "metadata": {
        "colab": {
          "base_uri": "https://localhost:8080/"
        },
        "id": "wYVHTTwC2YGu",
        "outputId": "14eaf151-c392-420f-f4a7-d3b0c0fd0023"
      },
      "execution_count": null,
      "outputs": [
        {
          "output_type": "stream",
          "name": "stdout",
          "text": [
            "Isi tabel hash: [('E', 50), ('B', 20), ('A', 10), ('C', 30), ('D', 40)]\n"
          ]
        }
      ]
    },
    {
      "cell_type": "code",
      "source": [
        "class ChainingHashTable:\n",
        "    def __init__(self, size):\n",
        "        self.size = size\n",
        "        self.table = [[] for _ in range(size)]\n",
        "\n",
        "    def hash_function(self, key):\n",
        "        return hash(key) % self.size\n",
        "\n",
        "    def insert(self, key, value):\n",
        "        index = self.hash_function(key)\n",
        "        for i, (k, v) in enumerate(self.table[index]):\n",
        "            if k == key:\n",
        "                self.table[index][i] = (key, value)\n",
        "                return\n",
        "        self.table[index].append((key, value))\n",
        "\n",
        "    def __str__(self):\n",
        "        return '\\n'.join(f\"Slot {i}: {slot}\" for i, slot in enumerate(self.table))\n",
        "\n",
        "\n",
        "# a. Ukuran tabel = 3\n",
        "ht = ChainingHashTable(3)\n",
        "\n",
        "# b. Masukkan data\n",
        "data = [(\"apel\", 100), (\"melon\", 200), (\"lemon\", 300), (\"pisang\", 400)]\n",
        "for key, value in data:\n",
        "    ht.insert(key, value)\n",
        "\n",
        "# c. Cetak isi tabel\n",
        "print(\"Isi tabel hash dengan chaining:\")\n",
        "print(ht)\n"
      ],
      "metadata": {
        "colab": {
          "base_uri": "https://localhost:8080/"
        },
        "id": "jcel9XVs5ElM",
        "outputId": "d1b1f88f-2401-4d37-b025-c2a2d761013e"
      },
      "execution_count": null,
      "outputs": [
        {
          "output_type": "stream",
          "name": "stdout",
          "text": [
            "Isi tabel hash dengan chaining:\n",
            "Slot 0: [('lemon', 300)]\n",
            "Slot 1: [('apel', 100), ('melon', 200)]\n",
            "Slot 2: [('pisang', 400)]\n"
          ]
        }
      ]
    },
    {
      "cell_type": "code",
      "source": [],
      "metadata": {
        "id": "hnzokhdv_YIT"
      },
      "execution_count": null,
      "outputs": []
    }
  ]
}