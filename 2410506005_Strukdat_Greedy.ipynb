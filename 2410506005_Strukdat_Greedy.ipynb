{
  "nbformat": 4,
  "nbformat_minor": 0,
  "metadata": {
    "colab": {
      "provenance": [],
      "authorship_tag": "ABX9TyOkogJPTS1ni5rFSLRKxgdI",
      "include_colab_link": true
    },
    "kernelspec": {
      "name": "python3",
      "display_name": "Python 3"
    },
    "language_info": {
      "name": "python"
    }
  },
  "cells": [
    {
      "cell_type": "markdown",
      "metadata": {
        "id": "view-in-github",
        "colab_type": "text"
      },
      "source": [
        "<a href=\"https://colab.research.google.com/github/Davidnazal/Struktur-data/blob/main/2410506005_Strukdat_Greedy.ipynb\" target=\"_parent\"><img src=\"https://colab.research.google.com/assets/colab-badge.svg\" alt=\"Open In Colab\"/></a>"
      ]
    },
    {
      "cell_type": "code",
      "source": [
        "def coin_change_greedy(amount, coins):\n",
        "    # Mengurutkan koin dari yang terbesar ke terkecil\n",
        "    coins.sort(reverse=True)\n",
        "    result = []  # Inisialisasi list untuk menyimpan koin yang digunakan\n",
        "\n",
        "    # Menghitung koin yang digunakan\n",
        "    for coin in coins:\n",
        "        while amount >= coin:\n",
        "            amount -= coin\n",
        "            result.append(coin)  # Menambahkan koin ke hasil\n",
        "\n",
        "    return result  # Mengembalikan daftar koin yang digunakan\n",
        "\n",
        "# Contoh penggunaan\n",
        "amount = 57\n",
        "coins = [25, 10, 5, 1]  # Memperbaiki kesalahan pada daftar koin\n",
        "change = coin_change_greedy(amount, coins)\n",
        "print(\"Koin yang digunakan:\", change)\n"
      ],
      "metadata": {
        "colab": {
          "base_uri": "https://localhost:8080/"
        },
        "id": "GymWOZTGn_PE",
        "outputId": "dbf9918c-ee21-40b4-c2b6-d65c8606f083"
      },
      "execution_count": null,
      "outputs": [
        {
          "output_type": "stream",
          "name": "stdout",
          "text": [
            "Koin yang digunakan: [25, 25, 5, 1, 1]\n"
          ]
        }
      ]
    },
    {
      "cell_type": "code",
      "source": [
        "def fractional_knapsack(items, capacity):\n",
        "    # items adalah daftar tuple (nilai, berat)\n",
        "    items = sorted(items, key=lambda x: x[0] / x[1], reverse=True)\n",
        "    total_value = 0.0  # Inisialisasi nilai total\n",
        "\n",
        "    for value, weight in items:\n",
        "        if capacity >= weight:\n",
        "            capacity -= weight\n",
        "            total_value += value  # Menambahkan nilai penuh\n",
        "        else:\n",
        "            total_value += value * (capacity / weight)  # Menambahkan nilai sebagian\n",
        "            break  # Keluar dari loop setelah kapasitas terpakai\n",
        "\n",
        "    return total_value  # Mengembalikan nilai total\n",
        "\n",
        "# Contoh penggunaan\n",
        "items = [(60, 10), (100, 20), (120, 30)]  # (nilai, berat)\n",
        "capacity = 50\n",
        "max_value = fractional_knapsack(items, capacity)\n",
        "print(\"Nilai maksimum yang dapat dibawa:\", max_value)\n"
      ],
      "metadata": {
        "colab": {
          "base_uri": "https://localhost:8080/"
        },
        "id": "OaJCsynNn_9k",
        "outputId": "a722b41f-fe44-4694-94c6-e0ec44d70427"
      },
      "execution_count": null,
      "outputs": [
        {
          "output_type": "stream",
          "name": "stdout",
          "text": [
            "Nilai maksimum yang dapat dibawa: 240.0\n"
          ]
        }
      ]
    },
    {
      "cell_type": "code",
      "source": [
        "import heapq\n",
        "\n",
        "def prim_mst(graph, start):\n",
        "    visited = set()\n",
        "    min_heap = [(0, start)]\n",
        "    total_weight = 0\n",
        "\n",
        "    while min_heap:\n",
        "        weight, node = heapq.heappop(min_heap)\n",
        "        if node in visited:\n",
        "            continue\n",
        "        visited.add(node)\n",
        "        total_weight += weight\n",
        "        for neighbor, edge_weight in graph[node]:\n",
        "            if neighbor not in visited:\n",
        "                heapq.heappush(min_heap, (edge_weight, neighbor))\n",
        "    return total_weight\n",
        "\n",
        "# Representasi graph: adjacency list\n",
        "graph = {\n",
        "    'A': [('B', 3), ('C', 31)],\n",
        "    'B': [('A', 3), ('C', 1), ('D', 1)],\n",
        "    'C': [('A', 31), ('B', 1), ('D', 2)],\n",
        "    'D': [('B', 1), ('C', 2), ('E', 41)],\n",
        "    'E': [('D', 41)]\n",
        "}\n",
        "\n",
        "print(\"Total bobot MST (Prim):\", prim_mst(graph, 'A'))\n"
      ],
      "metadata": {
        "colab": {
          "base_uri": "https://localhost:8080/"
        },
        "id": "uz07Pq4DoEfP",
        "outputId": "70623475-cf6f-4959-c141-aed93266ddec"
      },
      "execution_count": null,
      "outputs": [
        {
          "output_type": "stream",
          "name": "stdout",
          "text": [
            "Total bobot MST (Prim): 46\n"
          ]
        }
      ]
    },
    {
      "cell_type": "code",
      "source": [
        "def kruskal_mst(edges, n_nodes):\n",
        "    parent = [-1] * n_nodes\n",
        "\n",
        "    def find(x):\n",
        "        while parent[x] != -1:\n",
        "            x = parent[x]\n",
        "        return x\n",
        "\n",
        "    total_weight = 0\n",
        "    edges.sort()  # edges: (node1, node2, weight), nodes are represented by integers\n",
        "    for u, v, weight in edges:\n",
        "        root_u = find(u)\n",
        "        root_v = find(v)\n",
        "        if root_u != root_v:\n",
        "            parent[root_u] = root_v\n",
        "            total_weight += weight\n",
        "\n",
        "    return total_weight\n",
        "\n",
        "edges = [(0, 1, 2), (0, 2, 3), (1, 2, 1), (1, 3, 1), (2, 3, 4)]\n",
        "print(\"Total bobot MST (Kruskal):\", kruskal_mst(edges, 4))\n"
      ],
      "metadata": {
        "colab": {
          "base_uri": "https://localhost:8080/"
        },
        "id": "kyrk6f0XoJ-0",
        "outputId": "c8f97cd6-9972-4d37-9064-561488962222"
      },
      "execution_count": null,
      "outputs": [
        {
          "output_type": "stream",
          "name": "stdout",
          "text": [
            "Total bobot MST (Kruskal): 6\n"
          ]
        }
      ]
    },
    {
      "cell_type": "code",
      "source": [],
      "metadata": {
        "id": "3Yx6q4g1oXTK"
      },
      "execution_count": null,
      "outputs": []
    }
  ]
}