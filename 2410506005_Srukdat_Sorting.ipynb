{
  "nbformat": 4,
  "nbformat_minor": 0,
  "metadata": {
    "colab": {
      "provenance": [],
      "authorship_tag": "ABX9TyOW+RmH/Y/0uYrm0zFZUwMh",
      "include_colab_link": true
    },
    "kernelspec": {
      "name": "python3",
      "display_name": "Python 3"
    },
    "language_info": {
      "name": "python"
    }
  },
  "cells": [
    {
      "cell_type": "markdown",
      "metadata": {
        "id": "view-in-github",
        "colab_type": "text"
      },
      "source": [
        "<a href=\"https://colab.research.google.com/github/Davidnazal/Struktur-data/blob/main/2410506005_Srukdat_Sorting.ipynb\" target=\"_parent\"><img src=\"https://colab.research.google.com/assets/colab-badge.svg\" alt=\"Open In Colab\"/></a>"
      ]
    },
    {
      "cell_type": "markdown",
      "source": [
        "# **Implementasi Bubble sort**"
      ],
      "metadata": {
        "id": "xlhc88vncL9j"
      }
    },
    {
      "cell_type": "code",
      "source": [
        "def bubble_sort(arr):\n",
        "  n = len(arr)\n",
        "  for i in range(n-1):\n",
        "    for j in range(n-i-1):\n",
        "      if arr[j] > arr[j+1]:\n",
        "        arr[j], arr[j+1] = arr[j+1],arr[j]\n",
        "  return arr\n",
        "\n",
        "# contoh penggunaan\n",
        "data = [64, 34, 25, 12, 22, 11, 90]\n",
        "sorted_data = bubble_sort(data.copy())\n",
        "print(\"Data sebelum sorting:\", data)\n",
        "print(\"Data setelah Bubbble sort:\", sorted_data)"
      ],
      "metadata": {
        "colab": {
          "base_uri": "https://localhost:8080/"
        },
        "id": "ddd8c1EISKgE",
        "outputId": "b8a54594-833e-4cd8-97b2-c3bd9450d0ce"
      },
      "execution_count": 2,
      "outputs": [
        {
          "output_type": "stream",
          "name": "stdout",
          "text": [
            "Data sebelum sorting: [64, 34, 25, 12, 22, 11, 90]\n",
            "Data setelah Bubbble sort: [11, 12, 22, 25, 34, 64, 90]\n"
          ]
        }
      ]
    },
    {
      "cell_type": "markdown",
      "source": [
        "# **Implementasi Selection sort**"
      ],
      "metadata": {
        "id": "FhB-bDCMccsb"
      }
    },
    {
      "cell_type": "code",
      "source": [
        "def selection_sort(arr):\n",
        "  n = len(arr)\n",
        "  for i in range(n-1):\n",
        "    min_index = i\n",
        "    for j in range(i + 1, n):\n",
        "      if arr[j] < arr[min_index]:\n",
        "        min_index = j\n",
        "    arr[i], arr[min_index] = arr[min_index], arr[i]\n",
        "  return arr\n",
        "\n",
        "# contoh penggunaan\n",
        "data = [64, 34, 25, 12, 22, 11, 90]\n",
        "sorted_data = selection_sort(data.copy())\n",
        "print(\"Data sebelum sorting:\", data)\n",
        "print(\"Data setelah selection sort:\", sorted_data)"
      ],
      "metadata": {
        "colab": {
          "base_uri": "https://localhost:8080/"
        },
        "id": "nf4e4O6rZE3r",
        "outputId": "3e46f8d2-f7e4-46a0-f3a3-ac90ae801e3c"
      },
      "execution_count": 3,
      "outputs": [
        {
          "output_type": "stream",
          "name": "stdout",
          "text": [
            "Data sebelum sorting: [64, 34, 25, 12, 22, 11, 90]\n",
            "Data setelah selection sort: [11, 12, 22, 25, 34, 64, 90]\n"
          ]
        }
      ]
    },
    {
      "cell_type": "markdown",
      "source": [
        "# **Implementasi Insertion sort**"
      ],
      "metadata": {
        "id": "nNZMLHUWcnUL"
      }
    },
    {
      "cell_type": "code",
      "source": [
        "def insertion_sort(arr):\n",
        "  n = len(arr)\n",
        "  for i in range(1, n):\n",
        "    key = arr[i]\n",
        "    j = i - 1\n",
        "    while j >= 0 and arr[j] > key:\n",
        "      arr[j + 1] = arr[j]\n",
        "      j -= 1\n",
        "    arr[j + 1] = key\n",
        "  return arr\n",
        "\n",
        "# contoh penggunaan\n",
        "data = [64, 34, 25, 12, 22, 11, 90]\n",
        "sorted_data = insertion_sort(data.copy())\n",
        "print(\"Data sebelum sorting:\", data)\n",
        "print(\"Data setelah insertion sort:\", sorted_data)"
      ],
      "metadata": {
        "colab": {
          "base_uri": "https://localhost:8080/"
        },
        "id": "Kgq9G33ZZzOr",
        "outputId": "1531de00-9ccc-47e6-8216-cd4ae480b642"
      },
      "execution_count": 5,
      "outputs": [
        {
          "output_type": "stream",
          "name": "stdout",
          "text": [
            "Data sebelum sorting: [64, 34, 25, 12, 22, 11, 90]\n",
            "Data setelah insertion sort: [11, 12, 22, 25, 34, 64, 90]\n"
          ]
        }
      ]
    },
    {
      "cell_type": "markdown",
      "source": [
        "# **Implementasi Merge sort**"
      ],
      "metadata": {
        "id": "JxfIirQHcyBD"
      }
    },
    {
      "cell_type": "code",
      "source": [
        "def merge_sort(arr):\n",
        "    if len(arr) > 1:\n",
        "        mid = len(arr) // 2\n",
        "        left_half = arr[:mid]\n",
        "        right_half = arr[mid:]\n",
        "\n",
        "        merge_sort(left_half)\n",
        "        merge_sort(right_half)\n",
        "\n",
        "        i = j = k = 0\n",
        "\n",
        "        while i < len(left_half) and j < len(right_half):\n",
        "            if left_half[i] < right_half[j]:\n",
        "                arr[k] = left_half[i]\n",
        "                i += 1\n",
        "            else:\n",
        "                arr[k] = right_half[j]\n",
        "                j += 1\n",
        "            k += 1\n",
        "\n",
        "        while i < len(left_half):\n",
        "            arr[k] = left_half[i]\n",
        "            i += 1\n",
        "            k += 1\n",
        "\n",
        "        while j < len(right_half):\n",
        "            arr[k] = right_half[j]\n",
        "            j += 1\n",
        "            k += 1\n",
        "\n",
        "    return arr\n",
        "\n",
        "# Contoh penggunaan\n",
        "data = [64, 25, 12, 22, 11]\n",
        "sorted_data = merge_sort(data.copy())\n",
        "print(\"Data sebelum sorting:\", data)\n",
        "print(\"Data setelah Merge Sort:\", sorted_data)"
      ],
      "metadata": {
        "colab": {
          "base_uri": "https://localhost:8080/"
        },
        "id": "dGn0OkbyaXsk",
        "outputId": "626bfb00-fde8-4cb6-efbc-3ac20203d26c"
      },
      "execution_count": null,
      "outputs": [
        {
          "output_type": "stream",
          "name": "stdout",
          "text": [
            "Data sebelum sorting: [64, 25, 12, 22, 11]\n",
            "Data setelah Merge Sort: [11, 12, 22, 25, 64]\n"
          ]
        }
      ]
    },
    {
      "cell_type": "markdown",
      "source": [
        "# **Implementasi quick sort**\n"
      ],
      "metadata": {
        "id": "CHrZ5fylc3l7"
      }
    },
    {
      "cell_type": "code",
      "source": [
        "def quick_sort(arr):\n",
        "    if len(arr) <= 1:\n",
        "        return arr\n",
        "\n",
        "    pivot = arr[len(arr) // 2]\n",
        "    left = [x for x in arr if x < pivot]\n",
        "    middle = [x for x in arr if x == pivot]\n",
        "    right = [x for x in arr if x > pivot]\n",
        "\n",
        "    return quick_sort(left) + middle + quick_sort(right)\n",
        "\n",
        "# Contoh penggunaan\n",
        "data = [64, 25, 12, 22, 11]\n",
        "sorted_data = quick_sort(data.copy())\n",
        "print(\"Data sebelum sorting:\", data)\n",
        "print(\"Data setelah Quick Sort:\", sorted_data)\n"
      ],
      "metadata": {
        "colab": {
          "base_uri": "https://localhost:8080/"
        },
        "id": "WKdeZ923asgU",
        "outputId": "18441359-8df9-4b9f-eb9d-57e23366e36e"
      },
      "execution_count": 6,
      "outputs": [
        {
          "output_type": "stream",
          "name": "stdout",
          "text": [
            "Data sebelum sorting: [64, 25, 12, 22, 11]\n",
            "Data setelah Quick Sort: [11, 12, 22, 25, 64]\n"
          ]
        }
      ]
    },
    {
      "cell_type": "markdown",
      "source": [
        "# **Tugas**"
      ],
      "metadata": {
        "id": "sO-xmd66dCiD"
      }
    },
    {
      "cell_type": "code",
      "source": [
        "def merge_sort(data, key):\n",
        "    if len(data) > 1:\n",
        "        mid = len(data) // 2\n",
        "        left_half = data[:mid]\n",
        "        right_half = data[mid:]\n",
        "\n",
        "        merge_sort(left_half, key)\n",
        "        merge_sort(right_half, key)\n",
        "\n",
        "        i = j = k = 0\n",
        "\n",
        "        while i < len(left_half) and j < len(right_half):\n",
        "            if left_half[i][key] < right_half[j][key]:\n",
        "                data[k] = left_half[i]\n",
        "                i += 1\n",
        "            else:\n",
        "                data[k] = right_half[j]\n",
        "                j += 1\n",
        "            k += 1\n",
        "\n",
        "        while i < len(left_half):\n",
        "            data[k] = left_half[i]\n",
        "            i += 1\n",
        "            k += 1\n",
        "\n",
        "        while j < len(right_half):\n",
        "            data[k] = right_half[j]\n",
        "            j += 1\n",
        "            k += 1\n",
        "\n",
        "def print_data(data_pelanggan):\n",
        "    print(\"\\nDaftar Pelanggan:\")\n",
        "    for dp in data_pelanggan:\n",
        "        print(f\"Nama: {dp['nama']}, Umur: {dp['umur']}, Total Belanja: {dp['total_belanja']}\")\n",
        "\n",
        "# Contoh data pelanggan\n",
        "data_pelanggan = [\n",
        "    {\"nama\": \"Sabil\", \"umur\": 18, \"total_belanja\": 50000},\n",
        "    {\"nama\": \"Hanif\", \"umur\": 18, \"total_belanja\": 70000},\n",
        "    {\"nama\": \"David\", \"umur\": 19, \"total_belanja\": 30000},\n",
        "    {\"nama\": \"Rayfal\", \"umur\": 20, \"total_belanja\": 15000},\n",
        "    {\"nama\": \"Abdi\", \"umur\": 17, \"total_belanja\": 23000},\n",
        "    {\"nama\": \"Yasa\", \"umur\": 23, \"total_belanja\": 17000},\n",
        "    {\"nama\": \"Figo\", \"umur\": 19, \"total_belanja\": 66000},\n",
        "    {\"nama\": \"Biyyu\", \"umur\": 20, \"total_belanja\": 91000},\n",
        "]\n",
        "\n",
        "print_data(data_pelanggan)\n",
        "\n",
        "# Sorting berdasarkan nama (A-Z)\n",
        "merge_sort(data_pelanggan, \"nama\")\n",
        "print(\"\\nUrutan Berdasarkan Nama (A-Z):\")\n",
        "print_data(data_pelanggan)\n",
        "\n",
        "# Sorting berdasarkan umur\n",
        "merge_sort(data_pelanggan, \"umur\")\n",
        "print(\"\\nUrutan Berdasarkan Umur:\")\n",
        "print_data(data_pelanggan)\n",
        "\n",
        "# Sorting berdasarkan total belanja\n",
        "merge_sort(data_pelanggan, \"total_belanja\")\n",
        "print(\"\\nUrutan Berdasarkan Total Belanja (dari yang terkecil):\")\n",
        "print_data(data_pelanggan)"
      ],
      "metadata": {
        "colab": {
          "base_uri": "https://localhost:8080/"
        },
        "id": "fr2Ly9KxPM8S",
        "outputId": "25a133ec-54c1-4808-c938-7a0329481a5c"
      },
      "execution_count": 4,
      "outputs": [
        {
          "output_type": "stream",
          "name": "stdout",
          "text": [
            "\n",
            "Daftar Pelanggan:\n",
            "Nama: Sabil, Umur: 18, Total Belanja: 50000\n",
            "Nama: Hanif, Umur: 18, Total Belanja: 70000\n",
            "Nama: David, Umur: 19, Total Belanja: 30000\n",
            "Nama: Rayfal, Umur: 20, Total Belanja: 15000\n",
            "Nama: Abdi, Umur: 17, Total Belanja: 23000\n",
            "Nama: Yasa, Umur: 23, Total Belanja: 17000\n",
            "Nama: Figo, Umur: 19, Total Belanja: 66000\n",
            "Nama: Biyyu, Umur: 20, Total Belanja: 91000\n",
            "\n",
            "Urutan Berdasarkan Nama (A-Z):\n",
            "\n",
            "Daftar Pelanggan:\n",
            "Nama: Abdi, Umur: 17, Total Belanja: 23000\n",
            "Nama: Biyyu, Umur: 20, Total Belanja: 91000\n",
            "Nama: David, Umur: 19, Total Belanja: 30000\n",
            "Nama: Figo, Umur: 19, Total Belanja: 66000\n",
            "Nama: Hanif, Umur: 18, Total Belanja: 70000\n",
            "Nama: Rayfal, Umur: 20, Total Belanja: 15000\n",
            "Nama: Sabil, Umur: 18, Total Belanja: 50000\n",
            "Nama: Yasa, Umur: 23, Total Belanja: 17000\n",
            "\n",
            "Urutan Berdasarkan Umur:\n",
            "\n",
            "Daftar Pelanggan:\n",
            "Nama: Abdi, Umur: 17, Total Belanja: 23000\n",
            "Nama: Sabil, Umur: 18, Total Belanja: 50000\n",
            "Nama: Hanif, Umur: 18, Total Belanja: 70000\n",
            "Nama: Figo, Umur: 19, Total Belanja: 66000\n",
            "Nama: David, Umur: 19, Total Belanja: 30000\n",
            "Nama: Rayfal, Umur: 20, Total Belanja: 15000\n",
            "Nama: Biyyu, Umur: 20, Total Belanja: 91000\n",
            "Nama: Yasa, Umur: 23, Total Belanja: 17000\n",
            "\n",
            "Urutan Berdasarkan Total Belanja (dari yang terkecil):\n",
            "\n",
            "Daftar Pelanggan:\n",
            "Nama: Rayfal, Umur: 20, Total Belanja: 15000\n",
            "Nama: Yasa, Umur: 23, Total Belanja: 17000\n",
            "Nama: Abdi, Umur: 17, Total Belanja: 23000\n",
            "Nama: David, Umur: 19, Total Belanja: 30000\n",
            "Nama: Sabil, Umur: 18, Total Belanja: 50000\n",
            "Nama: Figo, Umur: 19, Total Belanja: 66000\n",
            "Nama: Hanif, Umur: 18, Total Belanja: 70000\n",
            "Nama: Biyyu, Umur: 20, Total Belanja: 91000\n"
          ]
        }
      ]
    },
    {
      "cell_type": "code",
      "source": [],
      "metadata": {
        "id": "8rzVGUGRXEy5"
      },
      "execution_count": null,
      "outputs": []
    }
  ]
}