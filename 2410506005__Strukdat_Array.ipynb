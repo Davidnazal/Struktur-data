{
  "nbformat": 4,
  "nbformat_minor": 0,
  "metadata": {
    "colab": {
      "provenance": [],
      "authorship_tag": "ABX9TyNFvZp3eAbBCBlXe0wfQEqn",
      "include_colab_link": true
    },
    "kernelspec": {
      "name": "python3",
      "display_name": "Python 3"
    },
    "language_info": {
      "name": "python"
    }
  },
  "cells": [
    {
      "cell_type": "markdown",
      "metadata": {
        "id": "view-in-github",
        "colab_type": "text"
      },
      "source": [
        "<a href=\"https://colab.research.google.com/github/Davidnazal/Struktur-data/blob/main/2410506005__Strukdat_Array.ipynb\" target=\"_parent\"><img src=\"https://colab.research.google.com/assets/colab-badge.svg\" alt=\"Open In Colab\"/></a>"
      ]
    },
    {
      "cell_type": "code",
      "execution_count": null,
      "metadata": {
        "colab": {
          "base_uri": "https://localhost:8080/"
        },
        "id": "6RdF54TcHyDF",
        "outputId": "f4888d2a-6e52-476c-f55a-3c11c45f63ff"
      },
      "outputs": [
        {
          "output_type": "stream",
          "name": "stdout",
          "text": [
            "Array dengan list [10, 20, 30, 40, 50]\n"
          ]
        }
      ],
      "source": [
        "#List Python(list)\n",
        "angka = [10,20,30,40,50]\n",
        "print (\"Array dengan list\", angka)"
      ]
    },
    {
      "cell_type": "code",
      "source": [
        "#modul array\n",
        "import array\n",
        "angka = array.array('i', [10,20,30,40,50])\n",
        "print (\"Array dengan modul array\", angka)"
      ],
      "metadata": {
        "colab": {
          "base_uri": "https://localhost:8080/"
        },
        "id": "Zaglw-uNJdX9",
        "outputId": "8bdbbd0f-360e-4b84-b932-13c97a7ec86e"
      },
      "execution_count": null,
      "outputs": [
        {
          "output_type": "stream",
          "name": "stdout",
          "text": [
            "Array dengan modul array array('i', [10, 20, 30, 40, 50])\n"
          ]
        }
      ]
    },
    {
      "cell_type": "code",
      "source": [
        "#Modul numpy\n",
        "import numpy as np\n",
        "angka = np.array([10,20,30,40,50])\n",
        "print (\"Array dengan modul numpy\", angka)\n"
      ],
      "metadata": {
        "colab": {
          "base_uri": "https://localhost:8080/"
        },
        "id": "SkFta3PBKBwm",
        "outputId": "be9beeda-3487-4d96-e6c2-6a5cda5a81d7"
      },
      "execution_count": null,
      "outputs": [
        {
          "output_type": "stream",
          "name": "stdout",
          "text": [
            "Array dengan modul numpy [10 20 30 40 50]\n"
          ]
        }
      ]
    },
    {
      "cell_type": "code",
      "source": [
        "#Array satu dimensi\n",
        "import numpy as np\n",
        "angka = np.array([1,2,3,4,5])\n",
        "print (\"Array satu dimensi:\", angka)"
      ],
      "metadata": {
        "colab": {
          "base_uri": "https://localhost:8080/"
        },
        "id": "VdZaJy9BKMON",
        "outputId": "d8ec83b5-42e3-4395-e4cd-23cd3cd1872a"
      },
      "execution_count": null,
      "outputs": [
        {
          "output_type": "stream",
          "name": "stdout",
          "text": [
            "Array satu dimensi: [1 2 3 4 5]\n"
          ]
        }
      ]
    },
    {
      "cell_type": "code",
      "source": [
        "#Array dua dimensi\n",
        "matriks = np.array([[1,2],[3,4],[5,6]])\n",
        "print (\"Array dua dimensi:\\n\", matriks)"
      ],
      "metadata": {
        "colab": {
          "base_uri": "https://localhost:8080/"
        },
        "id": "lt9_AfKnKZR1",
        "outputId": "61503442-b288-4e53-c8f4-2ed8e0edc617"
      },
      "execution_count": null,
      "outputs": [
        {
          "output_type": "stream",
          "name": "stdout",
          "text": [
            "Array dua dimensi:\n",
            " [[1 2]\n",
            " [3 4]\n",
            " [5 6]]\n"
          ]
        }
      ]
    },
    {
      "cell_type": "code",
      "source": [
        "#Array tiga dimensi\n",
        "array3D = np.array([[[1,2],[3,4]],[[5,6],[7,8]]])\n",
        "print (\"Array tiga dimensi:\", array3D)"
      ],
      "metadata": {
        "colab": {
          "base_uri": "https://localhost:8080/"
        },
        "id": "fc30dSQhKv49",
        "outputId": "70dc7429-6a7d-4ebe-e2ee-8cbfab0a1bba"
      },
      "execution_count": null,
      "outputs": [
        {
          "output_type": "stream",
          "name": "stdout",
          "text": [
            "Array tiga dimensi: [[[1 2]\n",
            "  [3 4]]\n",
            "\n",
            " [[5 6]\n",
            "  [7 8]]]\n"
          ]
        }
      ]
    },
    {
      "cell_type": "code",
      "source": [
        "#Deklarasi array kosong\n",
        "angka = []"
      ],
      "metadata": {
        "id": "43CkVbTILJz1"
      },
      "execution_count": null,
      "outputs": []
    },
    {
      "cell_type": "code",
      "source": [
        "#Array dengan elemen\n",
        "angka = [10,20,30,40,50]"
      ],
      "metadata": {
        "id": "1a_dr9b2Lg2l"
      },
      "execution_count": null,
      "outputs": []
    },
    {
      "cell_type": "code",
      "source": [
        "#akses elemen\n",
        "print (\"Elemen pertama\", angka [0])\n",
        "print (\"Elemen kedua\", angka [-1])"
      ],
      "metadata": {
        "colab": {
          "base_uri": "https://localhost:8080/"
        },
        "id": "KhHDsTeILkgk",
        "outputId": "74031889-7716-40ef-80a3-9e3bd214e780"
      },
      "execution_count": null,
      "outputs": [
        {
          "output_type": "stream",
          "name": "stdout",
          "text": [
            "Elemen pertama 10\n",
            "Elemen kedua 50\n"
          ]
        }
      ]
    },
    {
      "cell_type": "code",
      "source": [
        "#menambah elemen\n",
        "angka.append(60)\n",
        "print (\"Setelah append\", angka )"
      ],
      "metadata": {
        "colab": {
          "base_uri": "https://localhost:8080/"
        },
        "id": "CBclN43sLvMk",
        "outputId": "eea05dca-9ddd-4dde-e743-73fa453c2207"
      },
      "execution_count": null,
      "outputs": [
        {
          "output_type": "stream",
          "name": "stdout",
          "text": [
            "Setelah append [10, 20, 30, 40, 50, 60]\n"
          ]
        }
      ]
    },
    {
      "cell_type": "code",
      "source": [
        "#mengkapus elemen\n",
        "angka.remove(30)\n",
        "print(\"Setelah remove\",angka)"
      ],
      "metadata": {
        "colab": {
          "base_uri": "https://localhost:8080/"
        },
        "id": "Uv-F4xU9MK9N",
        "outputId": "a5506b2b-6d3f-40d4-8307-034c8c4cd9c3"
      },
      "execution_count": null,
      "outputs": [
        {
          "output_type": "stream",
          "name": "stdout",
          "text": [
            "Setelah remove [10, 20, 40, 50, 60]\n"
          ]
        }
      ]
    },
    {
      "cell_type": "code",
      "source": [
        "#iterasi array\n",
        "for nilai in angka :\n",
        "    print (\"Nilai\",nilai)"
      ],
      "metadata": {
        "colab": {
          "base_uri": "https://localhost:8080/"
        },
        "id": "Y3rwIiw5MVHE",
        "outputId": "feb6a0da-b7b4-4145-af89-301cc6b0e1b8"
      },
      "execution_count": null,
      "outputs": [
        {
          "output_type": "stream",
          "name": "stdout",
          "text": [
            "Nilai 10\n",
            "Nilai 20\n",
            "Nilai 40\n",
            "Nilai 50\n",
            "Nilai 60\n"
          ]
        }
      ]
    },
    {
      "cell_type": "code",
      "source": [
        "print (\"elemen pertama\", angka [0])"
      ],
      "metadata": {
        "colab": {
          "base_uri": "https://localhost:8080/"
        },
        "id": "rfakXSRHMeFk",
        "outputId": "da5acb8d-b765-40e3-9c59-08fbffbfc87d"
      },
      "execution_count": null,
      "outputs": [
        {
          "output_type": "stream",
          "name": "stdout",
          "text": [
            "elemen pertama 10\n"
          ]
        }
      ]
    },
    {
      "cell_type": "code",
      "source": [
        "angka = np.append (angka, 60)\n",
        "print (\"Setelah penambahan\", angka)"
      ],
      "metadata": {
        "colab": {
          "base_uri": "https://localhost:8080/"
        },
        "id": "kzc1VKHPNvzs",
        "outputId": "4b1436c0-da57-4c18-c1da-c568b5371b6e"
      },
      "execution_count": null,
      "outputs": [
        {
          "output_type": "stream",
          "name": "stdout",
          "text": [
            "Setelah penambahan [10 20 40 50 60 60]\n"
          ]
        }
      ]
    },
    {
      "cell_type": "code",
      "source": [
        "angka = np.delete (angka, 2)\n",
        "print (\"Setelah penghapusan\", angka)"
      ],
      "metadata": {
        "colab": {
          "base_uri": "https://localhost:8080/"
        },
        "id": "Jpy4h9dhOA3F",
        "outputId": "ac1fbe49-7970-4298-b3cb-58a4bfd54671"
      },
      "execution_count": null,
      "outputs": [
        {
          "output_type": "stream",
          "name": "stdout",
          "text": [
            "Setelah penghapusan [10 20 50 60 60]\n"
          ]
        }
      ]
    },
    {
      "cell_type": "code",
      "source": [
        "print (\"Jumlah elemen\", len ( angka))"
      ],
      "metadata": {
        "colab": {
          "base_uri": "https://localhost:8080/"
        },
        "id": "1wVhA5tjOWIM",
        "outputId": "4ff2c821-9b06-48f3-f57d-e1036cd03e7e"
      },
      "execution_count": null,
      "outputs": [
        {
          "output_type": "stream",
          "name": "stdout",
          "text": [
            "Jumlah elemen 5\n"
          ]
        }
      ]
    },
    {
      "cell_type": "code",
      "source": [
        "data = []\n",
        "angka = [10,20,30,40,50]\n",
        "print (\" Isi array angka\", angka)"
      ],
      "metadata": {
        "colab": {
          "base_uri": "https://localhost:8080/"
        },
        "id": "FEuY1EDEOgR8",
        "outputId": "a3f617ef-844d-4a85-936f-559e6ca20b4d"
      },
      "execution_count": null,
      "outputs": [
        {
          "output_type": "stream",
          "name": "stdout",
          "text": [
            " Isi array angka [10, 20, 30, 40, 50]\n"
          ]
        }
      ]
    },
    {
      "cell_type": "markdown",
      "source": [
        "# Latihan 1"
      ],
      "metadata": {
        "id": "p_k6_aP_Tyot"
      }
    },
    {
      "cell_type": "code",
      "source": [
        "# Latihan 1\n",
        "\n",
        "NPM= [2410506001,2410506002,2410506003,2410506004,2410506005]\n",
        "print (\"Isi NPM\", NPM)"
      ],
      "metadata": {
        "colab": {
          "base_uri": "https://localhost:8080/"
        },
        "id": "sGFZtc2HPTu9",
        "outputId": "e8f18c1c-548d-402c-8336-d517d86566c4"
      },
      "execution_count": null,
      "outputs": [
        {
          "output_type": "stream",
          "name": "stdout",
          "text": [
            "Isi NPM [2410506001, 2410506002, 2410506003, 2410506004, 2410506005]\n"
          ]
        }
      ]
    },
    {
      "cell_type": "code",
      "source": [
        "print (\"Elemen pertama: \", NPM[0])\n",
        "print (\"Elemen terakhir: \", NPM [-1])"
      ],
      "metadata": {
        "colab": {
          "base_uri": "https://localhost:8080/"
        },
        "id": "3Ll_-7MTQar8",
        "outputId": "b474ef50-732a-420e-cc3f-e7b3f88f9947"
      },
      "execution_count": null,
      "outputs": [
        {
          "output_type": "stream",
          "name": "stdout",
          "text": [
            "Elemen pertama:  2410506001\n",
            "Elemen terakhir:  2410506005\n"
          ]
        }
      ]
    },
    {
      "cell_type": "code",
      "source": [
        "angka.append(60)\n",
        "print (\"Array setelah penambahan elemen\", angka)"
      ],
      "metadata": {
        "colab": {
          "base_uri": "https://localhost:8080/"
        },
        "id": "kQokaDIaX5-k",
        "outputId": "11421fa3-734b-4505-dd33-c108ac03a484"
      },
      "execution_count": null,
      "outputs": [
        {
          "output_type": "stream",
          "name": "stdout",
          "text": [
            "Array setelah penambahan elemen [10, 20, 30, 40, 50, 60]\n"
          ]
        }
      ]
    },
    {
      "cell_type": "code",
      "source": [
        "angka.insert(2,25)\n",
        "print (\"Array setelah penambahan elemen dengan insert:\", angka)"
      ],
      "metadata": {
        "colab": {
          "base_uri": "https://localhost:8080/"
        },
        "id": "S1RMoD-_YFds",
        "outputId": "b68c3080-ceaa-4600-e946-7a21b9c4e59c"
      },
      "execution_count": null,
      "outputs": [
        {
          "output_type": "stream",
          "name": "stdout",
          "text": [
            "Array setelah penambahan elemen dengan insert: [10, 20, 25, 30, 40, 50, 60]\n"
          ]
        }
      ]
    },
    {
      "cell_type": "code",
      "source": [
        "angka.remove(25)\n",
        "print (\"Array setelah penghapusan elemen 25:\", angka)"
      ],
      "metadata": {
        "colab": {
          "base_uri": "https://localhost:8080/"
        },
        "id": "CBg39UyJYVR0",
        "outputId": "f74aefd4-e706-4cce-8183-f90947f1de9e"
      },
      "execution_count": null,
      "outputs": [
        {
          "output_type": "stream",
          "name": "stdout",
          "text": [
            "Array setelah penghapusan elemen 25: [10, 20, 30, 40, 50, 60]\n"
          ]
        }
      ]
    },
    {
      "cell_type": "code",
      "source": [
        "angka.pop(2)\n",
        "print (\"Array setelah penghapusan elemen pada indeks 2:\", angka)"
      ],
      "metadata": {
        "colab": {
          "base_uri": "https://localhost:8080/"
        },
        "id": "4Nr-LX3MYhCU",
        "outputId": "5939cfad-c4ca-4132-df3f-aa197449caa3"
      },
      "execution_count": null,
      "outputs": [
        {
          "output_type": "stream",
          "name": "stdout",
          "text": [
            "Array setelah penghapusan elemen pada indeks 2: [10, 20, 40, 50, 60]\n"
          ]
        }
      ]
    },
    {
      "cell_type": "markdown",
      "source": [
        "# Latihan 2\n"
      ],
      "metadata": {
        "id": "s1VvKAkEZred"
      }
    },
    {
      "cell_type": "code",
      "source": [
        "angka.append (5)\n",
        "print (\"Array setelah penambahan elemen 5:\", angka)\n",
        "angka.pop(0)\n",
        "print (\"Array setelah penghapusan elemen pertama:\", angka)"
      ],
      "metadata": {
        "colab": {
          "base_uri": "https://localhost:8080/"
        },
        "id": "fiOD_C4WYtYE",
        "outputId": "65ffc555-823f-4bef-dd67-104a07f164f0"
      },
      "execution_count": null,
      "outputs": [
        {
          "output_type": "stream",
          "name": "stdout",
          "text": [
            "Array setelah penambahan elemen 5: [10, 20, 40, 50, 60, 5, 5]\n",
            "Array setelah penghapusan elemen pertama: [20, 40, 50, 60, 5, 5]\n"
          ]
        }
      ]
    },
    {
      "cell_type": "code",
      "source": [
        "angka = [10,20,30,40]\n",
        "\n",
        "for nilai in angka:\n",
        "  print (\"Nilai\", nilai)"
      ],
      "metadata": {
        "colab": {
          "base_uri": "https://localhost:8080/"
        },
        "id": "OLLkad8lZeF0",
        "outputId": "62a6c361-8686-442c-bf68-87b65f8e0450"
      },
      "execution_count": null,
      "outputs": [
        {
          "output_type": "stream",
          "name": "stdout",
          "text": [
            "Nilai 10\n",
            "Nilai 20\n",
            "Nilai 30\n",
            "Nilai 40\n"
          ]
        }
      ]
    },
    {
      "cell_type": "markdown",
      "source": [
        "# Latihan 3"
      ],
      "metadata": {
        "id": "_S7HtjI1baRV"
      }
    },
    {
      "cell_type": "code",
      "source": [
        "Untidar = (\"Fakultas Teknik\",\"Fakultas Ekonomi\",\"Fakultas Ilmu Keguruan dan ilmu pendidikan\",\"Fakultas Ilmu sosial dan ilmu politik\", \"Fakultas Pertanian\")\n",
        "\n",
        "for fakultas in Untidar:\n",
        "  print (fakultas)"
      ],
      "metadata": {
        "colab": {
          "base_uri": "https://localhost:8080/"
        },
        "id": "MTTA0LwQZ-zM",
        "outputId": "f3ad5336-17e3-428c-eeb5-0fb9647dc821"
      },
      "execution_count": null,
      "outputs": [
        {
          "output_type": "stream",
          "name": "stdout",
          "text": [
            "Fakultas Teknik\n",
            "Fakultas Ekonomi\n",
            "Fakultas Ilmu Keguruan dan ilmu pendidikan\n",
            "Fakultas Ilmu sosial dan ilmu politik\n",
            "Fakultas Pertanian\n"
          ]
        }
      ]
    },
    {
      "cell_type": "code",
      "source": [
        "angka = [10,20,30,40]\n",
        "\n",
        "print(\"jumlah total\",sum (angka))\n",
        "print (\"nilai maksimum\", max(angka))\n",
        "print (\"nilai minimum\", min(angka))"
      ],
      "metadata": {
        "colab": {
          "base_uri": "https://localhost:8080/"
        },
        "id": "Jp5BC7E1a3lM",
        "outputId": "9e50bb43-d6d5-4633-fa08-2436c2d00b0e"
      },
      "execution_count": null,
      "outputs": [
        {
          "output_type": "stream",
          "name": "stdout",
          "text": [
            "jumlah total 100\n",
            "nilai maksimum 40\n",
            "nilai minimum 10\n"
          ]
        }
      ]
    },
    {
      "cell_type": "markdown",
      "source": [
        "# Latihan 4"
      ],
      "metadata": {
        "id": "Z87HmjGRb3Os"
      }
    },
    {
      "cell_type": "code",
      "source": [
        "harga_barang = (10000,15000,25000)\n",
        "print (\"harga barang\", sum(harga_barang))\n",
        "print (\"jumlah elemen\", len(harga_barang))"
      ],
      "metadata": {
        "colab": {
          "base_uri": "https://localhost:8080/"
        },
        "id": "5h-zOduqb69D",
        "outputId": "13d9d4c8-2efe-4490-aefe-e7109c5f1fe0"
      },
      "execution_count": null,
      "outputs": [
        {
          "output_type": "stream",
          "name": "stdout",
          "text": [
            "harga barang 50000\n",
            "jumlah elemen 3\n"
          ]
        }
      ]
    },
    {
      "cell_type": "code",
      "source": [
        "matriks = [\n",
        "         [1,2,3],\n",
        "         [4,5,6],\n",
        "         [7,8,9]\n",
        "]\n",
        "print (\"isi array 2d:\")\n",
        "for baris in matriks:\n",
        "  print(baris)"
      ],
      "metadata": {
        "colab": {
          "base_uri": "https://localhost:8080/"
        },
        "id": "QVFptm9LcL7z",
        "outputId": "c2e232a9-844d-4404-e661-269c60880384"
      },
      "execution_count": null,
      "outputs": [
        {
          "output_type": "stream",
          "name": "stdout",
          "text": [
            "isi array 2d:\n",
            "[1, 2, 3]\n",
            "[4, 5, 6]\n",
            "[7, 8, 9]\n"
          ]
        }
      ]
    },
    {
      "cell_type": "markdown",
      "source": [
        "# Latihan 5"
      ],
      "metadata": {
        "id": "UcXR2jbIdOE9"
      }
    },
    {
      "cell_type": "code",
      "source": [
        "matriks = [\n",
        "         [1,2,3,4],\n",
        "         [5,6,7,8],\n",
        "         [9,10,11,12]\n",
        "]\n",
        "print (\"isi array 2d:\")\n",
        "for baris in matriks:\n",
        "  print(baris)"
      ],
      "metadata": {
        "colab": {
          "base_uri": "https://localhost:8080/"
        },
        "id": "m1GD5mZrdQcb",
        "outputId": "8abd7727-d9ed-412f-f3ba-280eef1601ad"
      },
      "execution_count": null,
      "outputs": [
        {
          "output_type": "stream",
          "name": "stdout",
          "text": [
            "isi array 2d:\n",
            "[1, 2, 3, 4]\n",
            "[5, 6, 7, 8]\n",
            "[9, 10, 11, 12]\n"
          ]
        }
      ]
    },
    {
      "cell_type": "code",
      "source": [
        "print (\"Elemen pada baris ke 1, kolom 2:\", matriks[0][1])\n",
        "print (\"Elemen terakhir:\", matriks[-1][-1])"
      ],
      "metadata": {
        "colab": {
          "base_uri": "https://localhost:8080/"
        },
        "id": "5B7bBMyRdfgT",
        "outputId": "2b265d6a-0ceb-4e14-da52-81c601c87161"
      },
      "execution_count": null,
      "outputs": [
        {
          "output_type": "stream",
          "name": "stdout",
          "text": [
            "Elemen pada baris ke 1, kolom 2: 2\n",
            "Elemen terakhir: 12\n"
          ]
        }
      ]
    },
    {
      "cell_type": "markdown",
      "source": [
        "# Latihan 6"
      ],
      "metadata": {
        "id": "o5nyPgxWed7k"
      }
    },
    {
      "cell_type": "code",
      "source": [
        "print (\"Elemen pada baris ke 2, kolom 4:\", matriks [1][3])"
      ],
      "metadata": {
        "colab": {
          "base_uri": "https://localhost:8080/"
        },
        "id": "_azfVjMDergL",
        "outputId": "32b97e71-5b5d-4c9c-b442-37ed0329abcd"
      },
      "execution_count": null,
      "outputs": [
        {
          "output_type": "stream",
          "name": "stdout",
          "text": [
            "Elemen pada baris ke 2, kolom 4: 8\n"
          ]
        }
      ]
    },
    {
      "cell_type": "code",
      "source": [
        "matriks.append ([10,11,12])\n",
        "print (\"Matriks setelah menambahkan baris baru:\", matriks)"
      ],
      "metadata": {
        "colab": {
          "base_uri": "https://localhost:8080/"
        },
        "id": "dUHdfx8dfA20",
        "outputId": "8b35bfc6-298c-4b70-af43-a7249d1e9e92"
      },
      "execution_count": null,
      "outputs": [
        {
          "output_type": "stream",
          "name": "stdout",
          "text": [
            "Matriks setelah menambahkan baris baru: [[1, 2, 3, 4], [5, 6, 7, 8], [9, 10, 11, 12], [10, 11, 12]]\n"
          ]
        }
      ]
    },
    {
      "cell_type": "code",
      "source": [
        "matriks[1].append(99)\n",
        "print (\"Matriks setelah menambahkan baris ke-2\", matriks)"
      ],
      "metadata": {
        "colab": {
          "base_uri": "https://localhost:8080/"
        },
        "id": "2U_AR6LHf5UT",
        "outputId": "536eb4de-8093-4c3a-dc79-ee287612cb34"
      },
      "execution_count": null,
      "outputs": [
        {
          "output_type": "stream",
          "name": "stdout",
          "text": [
            "Matriks setelah menambahkan baris ke-2 [[1, 2, 3, 4], [5, 6, 7, 8, 99], [9, 10, 11, 12], [10, 11, 12]]\n"
          ]
        }
      ]
    },
    {
      "cell_type": "markdown",
      "source": [
        "# Latihan 7"
      ],
      "metadata": {
        "id": "GbWxluAegNvt"
      }
    },
    {
      "cell_type": "code",
      "source": [
        "# Latihan 7\n",
        "matriks.append ([8,10,20,5])\n",
        "print (\"Matriks setelah menambahkan baris baru:\", matriks)\n"
      ],
      "metadata": {
        "colab": {
          "base_uri": "https://localhost:8080/"
        },
        "id": "pl2iqkAugLLL",
        "outputId": "b0150d9f-2a61-4faa-86b6-670ce5dcd794"
      },
      "execution_count": null,
      "outputs": [
        {
          "output_type": "stream",
          "name": "stdout",
          "text": [
            "Matriks setelah menambahkan baris baru: [[1, 2, 3, 4], [5, 6, 7, 8, 99], [9, 10, 11, 12], [10, 11, 12], [8, 10, 20, 5]]\n"
          ]
        }
      ]
    },
    {
      "cell_type": "code",
      "source": [
        "matriks[0].remove(2)\n",
        "print (\"Array setelah menghapus elemen indeks ke-1 baris ke-2:\",matriks)"
      ],
      "metadata": {
        "id": "O3HVXhGtwohc",
        "colab": {
          "base_uri": "https://localhost:8080/"
        },
        "outputId": "1ba40a2a-8380-46aa-9a3c-d11eff34a428"
      },
      "execution_count": null,
      "outputs": [
        {
          "output_type": "stream",
          "name": "stdout",
          "text": [
            "Array setelah menghapus elemen indeks ke-1 baris ke-2: [[1, 3, 4], [5, 6, 7, 8, 99], [9, 10, 11, 12], [10, 11, 12], [8, 10, 20, 5]]\n"
          ]
        }
      ]
    },
    {
      "cell_type": "code",
      "source": [
        "matriks[1].pop(1)\n",
        "print (\"Array setelah menghapus elemen indeks ke-1 baris ke-2:\",matriks)"
      ],
      "metadata": {
        "colab": {
          "base_uri": "https://localhost:8080/"
        },
        "id": "9zxZKsLT7I7o",
        "outputId": "871be4d8-8325-4150-8bc9-4d08eb8d5bee"
      },
      "execution_count": null,
      "outputs": [
        {
          "output_type": "stream",
          "name": "stdout",
          "text": [
            "Array setelah menghapus elemen indeks ke-1 baris ke-2: [[1, 3, 4], [5, 7, 8, 99], [9, 10, 11, 12], [10, 11, 12], [8, 10, 20, 5]]\n"
          ]
        }
      ]
    },
    {
      "cell_type": "code",
      "source": [
        "# Latihan 8\n",
        "matriks[-1].pop(2)\n",
        "print (\"Array setelah menghapus elemen indeks ke-3 baris terakhir:\",matriks)"
      ],
      "metadata": {
        "colab": {
          "base_uri": "https://localhost:8080/"
        },
        "id": "mYveVei78s07",
        "outputId": "c7041c4a-db47-47a9-8847-708e45efdc44"
      },
      "execution_count": null,
      "outputs": [
        {
          "output_type": "stream",
          "name": "stdout",
          "text": [
            "Array setelah menghapus elemen indeks ke-3 baris terakhir: [[1, 3, 4], [5, 7, 8, 99], [9, 10, 11, 12], [10, 11, 12], [8, 10, 5]]\n"
          ]
        }
      ]
    },
    {
      "cell_type": "code",
      "source": [
        "matriks[2][1]=88\n",
        "print (\"Array setelah mengubah elemen baris ke-3, indeks ke-2 :\",matriks)"
      ],
      "metadata": {
        "colab": {
          "base_uri": "https://localhost:8080/"
        },
        "id": "usvEdU6x9_i6",
        "outputId": "dd241b0a-4583-4b3b-a50d-757772c500f2"
      },
      "execution_count": null,
      "outputs": [
        {
          "output_type": "stream",
          "name": "stdout",
          "text": [
            "Array setelah mengubah elemen baris ke-3, indeks ke-2 : [[1, 3, 4], [5, 7, 8, 99], [9, 88, 11, 12], [10, 11, 12], [8, 10, 5]]\n"
          ]
        }
      ]
    },
    {
      "cell_type": "code",
      "source": [
        "# Latihan 9\n",
        "matriks[-1][2]=14\n",
        "print (\"Array setelah mengubah elemen baris ke-3, indeks ke-2 :\",matriks)"
      ],
      "metadata": {
        "colab": {
          "base_uri": "https://localhost:8080/"
        },
        "id": "DEKftD2I-SpU",
        "outputId": "1a7da4a8-137d-4a79-b17e-5e3fdcb50b29"
      },
      "execution_count": null,
      "outputs": [
        {
          "output_type": "stream",
          "name": "stdout",
          "text": [
            "Array setelah mengubah elemen baris ke-3, indeks ke-2 : [[1, 3, 4], [5, 7, 8, 99], [9, 88, 11, 12], [10, 11, 12], [8, 10, 14]]\n"
          ]
        }
      ]
    },
    {
      "cell_type": "code",
      "source": [
        "belanja = [\"Beras\",\"Gula\",\"Minyak\"]\n",
        "belanja.append(\"Teh\")\n",
        "belanja.remove(\"Gula\")\n",
        "print(\"Daftar belanja terbaru:\",belanja)"
      ],
      "metadata": {
        "colab": {
          "base_uri": "https://localhost:8080/"
        },
        "id": "pJcrtwe7_B0G",
        "outputId": "b8b01fc9-9e81-4abc-f54b-22fe671b2373"
      },
      "execution_count": null,
      "outputs": [
        {
          "output_type": "stream",
          "name": "stdout",
          "text": [
            "Daftar belanja terbaru: ['Beras', 'Minyak', 'Teh']\n"
          ]
        }
      ]
    },
    {
      "cell_type": "code",
      "source": [
        "# Latihan 10\n",
        "Belanja = [\"Beras\",\"Minyak\", \"Mie\",\"Telur\",\"Kopi\"]\n",
        "Belanja.append(\"Micin\")\n",
        "Belanja.remove(\"Mie\")\n",
        "print(\"Daftar belanja terbaru:\",Belanja)"
      ],
      "metadata": {
        "colab": {
          "base_uri": "https://localhost:8080/"
        },
        "id": "NgfJY_aXAGuM",
        "outputId": "38afc63e-aaaa-495c-ba5c-41ec6a307997"
      },
      "execution_count": null,
      "outputs": [
        {
          "output_type": "stream",
          "name": "stdout",
          "text": [
            "Daftar belanja terbaru: ['Beras', 'Minyak', 'Telur', 'Kopi', 'Micin']\n"
          ]
        }
      ]
    },
    {
      "cell_type": "code",
      "source": [],
      "metadata": {
        "id": "7WJFWZ_QAf20"
      },
      "execution_count": null,
      "outputs": []
    }
  ]
}
