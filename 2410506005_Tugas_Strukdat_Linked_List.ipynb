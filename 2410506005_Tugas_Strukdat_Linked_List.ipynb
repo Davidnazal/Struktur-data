{
  "nbformat": 4,
  "nbformat_minor": 0,
  "metadata": {
    "colab": {
      "provenance": [],
      "authorship_tag": "ABX9TyNTJQKg9GFYkfDN/2SRHT/1",
      "include_colab_link": true
    },
    "kernelspec": {
      "name": "python3",
      "display_name": "Python 3"
    },
    "language_info": {
      "name": "python"
    }
  },
  "cells": [
    {
      "cell_type": "markdown",
      "metadata": {
        "id": "view-in-github",
        "colab_type": "text"
      },
      "source": [
        "<a href=\"https://colab.research.google.com/github/Davidnazal/Struktur-data/blob/main/2410506005_Tugas_Strukdat_Linked_List.ipynb\" target=\"_parent\"><img src=\"https://colab.research.google.com/assets/colab-badge.svg\" alt=\"Open In Colab\"/></a>"
      ]
    },
    {
      "cell_type": "code",
      "execution_count": 1,
      "metadata": {
        "colab": {
          "base_uri": "https://localhost:8080/"
        },
        "id": "xPWKXQ3s8tB8",
        "outputId": "e4597d38-76ab-4a22-89a7-c4f2cdc5c3f5"
      },
      "outputs": [
        {
          "output_type": "stream",
          "name": "stdout",
          "text": [
            "Masukkan nama satpam ke-1: Kartika\n",
            "Masukkan nama satpam ke-2: Apfia\n",
            "Masukkan nama satpam ke-3: David\n",
            "Masukkan nama satpam ke-4: Yogi\n",
            "\n",
            "Jadwal Piket Satpam Selama 2 Minggu:\n",
            "\n",
            "Hari 1: Kartika\n",
            "Hari 2: Apfia\n",
            "Hari 3: David\n",
            "Hari 4: Yogi\n",
            "Hari 5: Kartika\n",
            "Hari 6: Apfia\n",
            "Hari 7: David\n",
            "Hari 8: Yogi\n",
            "Hari 9: Kartika\n",
            "Hari 10: Apfia\n",
            "Hari 11: David\n",
            "Hari 12: Yogi\n",
            "Hari 13: Kartika\n",
            "Hari 14: Apfia\n"
          ]
        }
      ],
      "source": [
        "class NamaSatpamNode:\n",
        "    def __init__(self, name):\n",
        "        self.name = name\n",
        "        self.next = None\n",
        "\n",
        "class JadwalPiketSatpam:\n",
        "    def __init__(self):\n",
        "        self.head = None\n",
        "\n",
        "    def tambah_satpam(self, name):\n",
        "        new_satpam = NamaSatpamNode(name)\n",
        "        if not self.head:\n",
        "            self.head = new_satpam\n",
        "            self.head.next = self.head\n",
        "        else:\n",
        "            temp = self.head\n",
        "            while temp.next != self.head:\n",
        "                temp = temp.next\n",
        "            temp.next = new_satpam\n",
        "            new_satpam.next = self.head\n",
        "\n",
        "    def cetak_jadwal(self, hari):\n",
        "        if not self.head:\n",
        "            print(\"Jadwal kosong!\")\n",
        "            return\n",
        "\n",
        "        print(\"\\nJadwal Piket Satpam Selama 2 Minggu:\\n\")\n",
        "        temp = self.head\n",
        "        for i in range(1, hari + 1):\n",
        "            print(f\"Hari {i}: {temp.name}\")\n",
        "            temp = temp.next\n",
        "\n",
        "#========================================================#\n",
        "jadwal = JadwalPiketSatpam()\n",
        "\n",
        "# Meminta input nama satpam\n",
        "for i in range(4):\n",
        "    nama = input(f\"Masukkan nama satpam ke-{i+1}: \")\n",
        "    jadwal.tambah_satpam(nama)\n",
        "\n",
        "# Menampilkan jadwal piket selama 14 hari\n",
        "jadwal.cetak_jadwal(14)\n"
      ]
    },
    {
      "cell_type": "code",
      "source": [],
      "metadata": {
        "id": "thowZ6lI6LPn"
      },
      "execution_count": null,
      "outputs": []
    }
  ]
}