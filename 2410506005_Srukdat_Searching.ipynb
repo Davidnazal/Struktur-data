{
  "nbformat": 4,
  "nbformat_minor": 0,
  "metadata": {
    "colab": {
      "provenance": [],
      "authorship_tag": "ABX9TyPcTxGewwLwIYv1UFSnWUSE",
      "include_colab_link": true
    },
    "kernelspec": {
      "name": "python3",
      "display_name": "Python 3"
    },
    "language_info": {
      "name": "python"
    }
  },
  "cells": [
    {
      "cell_type": "markdown",
      "metadata": {
        "id": "view-in-github",
        "colab_type": "text"
      },
      "source": [
        "<a href=\"https://colab.research.google.com/github/Davidnazal/Struktur-data/blob/main/2410506005_Srukdat_Searching.ipynb\" target=\"_parent\"><img src=\"https://colab.research.google.com/assets/colab-badge.svg\" alt=\"Open In Colab\"/></a>"
      ]
    },
    {
      "cell_type": "markdown",
      "source": [
        "**implementasi linear search**"
      ],
      "metadata": {
        "id": "ifvazET7UVYt"
      }
    },
    {
      "cell_type": "code",
      "source": [
        "def linear_search(arr,target):\n",
        "  for i in range(len(arr)):\n",
        "    if arr[i] == target:\n",
        "      return i\n",
        "  return -1\n",
        "\n",
        "arr = [37, 82, 5, 94, 26, 51, 78, 9, 43, 60]\n",
        "target = int(input(\"Masukkan 3 digit terakhir NPM anda: \"))\n",
        "\n",
        "result = linear_search(arr, target)\n",
        "\n",
        "if result != -1:\n",
        "  print(f\"Elemen ditemukan pada indeks {result}\")\n",
        "else:\n",
        "  print(\"Elemen tidak ditemukan\")"
      ],
      "metadata": {
        "colab": {
          "base_uri": "https://localhost:8080/"
        },
        "id": "6ddb1YmRUaDk",
        "outputId": "27caf061-cd32-4622-9806-85f36d705c6c"
      },
      "execution_count": null,
      "outputs": [
        {
          "output_type": "stream",
          "name": "stdout",
          "text": [
            "Masukkan 3 digit terakhir NPM anda: 005\n",
            "Elemen ditemukan pada indeks 2\n"
          ]
        }
      ]
    },
    {
      "cell_type": "markdown",
      "source": [
        "**Implementasi binary search**"
      ],
      "metadata": {
        "id": "VltyD5ujYkhM"
      }
    },
    {
      "cell_type": "code",
      "source": [
        "def binary_search(arr, target):\n",
        "  low = 0\n",
        "  high = len(arr) - 1\n",
        "\n",
        "  while low <= high:\n",
        "    mid = (low + high) // 2\n",
        "    if arr[mid] == target:\n",
        "      return mid\n",
        "    elif arr[mid] < target:\n",
        "      low = mid + 1\n",
        "    else:\n",
        "      high = mid - 1\n",
        "\n",
        "  return -1\n",
        "\n",
        "arr = [1011, 1012, 1013, 810, 1014, 1015, 1016]\n",
        "target = int(input(\"Masukkan tanggal lahir anda (DDMM): \"))\n",
        "\n",
        "result = binary_search(arr, target)\n",
        "\n",
        "if result != -1:\n",
        "  print(f\"Elemen ditemukan pada indeks {result}\")\n",
        "else:\n",
        "  print(\"Elemen tidak ditemukan\")"
      ],
      "metadata": {
        "colab": {
          "base_uri": "https://localhost:8080/"
        },
        "id": "5KCXQjtpV0hN",
        "outputId": "9a639552-5ad4-4921-c3e6-4dfbe6c14877"
      },
      "execution_count": null,
      "outputs": [
        {
          "output_type": "stream",
          "name": "stdout",
          "text": [
            "Masukkan tanggal lahir anda (DDMM): 810\n",
            "Elemen ditemukan pada indeks 3\n"
          ]
        }
      ]
    },
    {
      "cell_type": "markdown",
      "source": [
        "**Implementasi jump seach**"
      ],
      "metadata": {
        "id": "5e-3wAdNYrfr"
      }
    },
    {
      "cell_type": "code",
      "source": [
        "import math\n",
        "\n",
        "def jump_search(arr, target):\n",
        "    n = len(arr)\n",
        "    step = int(math.sqrt(n))\n",
        "    prev = 0\n",
        "\n",
        "    while arr[min(step, n) - 1] < target:\n",
        "        prev = step\n",
        "        step += int(math.sqrt(n))\n",
        "        if prev >= n:\n",
        "            return -1\n",
        "\n",
        "    for i in range(prev, min(step, n)):\n",
        "        if arr[i] == target:\n",
        "            return i\n",
        "\n",
        "    return -1\n",
        "\n",
        "arr_nama = [\"Abdi\", \"Biyyu\", \"Chanip\", \"David\", \"Eldin\", \"Figo\", \"Gnip\"]\n",
        "arr = []\n",
        "for nama in arr_nama:\n",
        "    arr.append(nama[0])\n",
        "\n",
        "target = input(\"Masukkan inisial nama anda: \")\n",
        "\n",
        "result = jump_search(arr, target)\n",
        "\n",
        "if result != -1:\n",
        "    print(f\"Elemen inisial {target} atau dengan nama {arr_nama[result]} ditemukan pada indeks {result}\")\n",
        "else:\n",
        "    print(\"Elemen tidak ditemukan\")"
      ],
      "metadata": {
        "colab": {
          "base_uri": "https://localhost:8080/"
        },
        "id": "1DfkSniJXKEM",
        "outputId": "9c62f6c8-8454-4f5e-9f80-50484c176823"
      },
      "execution_count": null,
      "outputs": [
        {
          "output_type": "stream",
          "name": "stdout",
          "text": [
            "Masukkan inisial nama anda: D\n",
            "Elemen inisial D atau dengan nama David ditemukan pada indeks 3\n"
          ]
        }
      ]
    },
    {
      "cell_type": "markdown",
      "source": [
        "**Latihan/Tugas**"
      ],
      "metadata": {
        "id": "3YL45a-5ajzr"
      }
    },
    {
      "cell_type": "code",
      "source": [
        "import random\n",
        "import math\n",
        "import pandas as pd\n",
        "\n",
        "def daftar_angka(size=100, start=1, end=1000):\n",
        "    return sorted(random.sample(range(start, end+1), size))\n",
        "\n",
        "def linear_search(arr, target):\n",
        "    perbandingan = 0\n",
        "    for index, value in enumerate(arr):\n",
        "        perbandingan += 1\n",
        "        if value == target:\n",
        "            return index, perbandingan\n",
        "    return -1, perbandingan\n",
        "\n",
        "def binary_search(arr, target):\n",
        "    left  = 0\n",
        "    right = len(arr) - 1\n",
        "    perbandingan = 0\n",
        "    while left <= right:\n",
        "        mid = (left + right) // 2\n",
        "        perbandingan += 1\n",
        "        if arr[mid] == target:\n",
        "            return mid, perbandingan\n",
        "        elif arr[mid] < target:\n",
        "            left = mid + 1\n",
        "        else:\n",
        "            right = mid - 1\n",
        "    return -1, perbandingan\n",
        "\n",
        "def jump_search(arr, target):\n",
        "    n = len(arr)\n",
        "    step = int(math.sqrt(n))\n",
        "    prev, perbandingan = 0, 0\n",
        "\n",
        "    while prev < n and arr[min(step, n) - 1] < target:\n",
        "        perbandingan += 1\n",
        "        prev = step\n",
        "        step += int(math.sqrt(n))\n",
        "        if prev >= n:\n",
        "            return -1, perbandingan\n",
        "\n",
        "    for i in range(prev, min(step, n)):\n",
        "        perbandingan += 1\n",
        "        if arr[i] == target:\n",
        "            return i, perbandingan\n",
        "\n",
        "    return -1, perbandingan\n",
        "\n",
        "def main():\n",
        "    arr = daftar_angka()\n",
        "    target = random.choice(arr)\n",
        "\n",
        "    print(f\"Mencari angka: {target}\\n\")\n",
        "\n",
        "    index, perbandingan_linear = linear_search(arr, target)\n",
        "    index, perbandingan_binary = binary_search(arr, target)\n",
        "    index, perbandingan_jump = jump_search(arr, target)\n",
        "\n",
        "    index, _ = linear_search(arr, target)\n",
        "    print(f\"Target ditemukan pada indeks\", index)\n",
        "    print(\"\")\n",
        "\n",
        "    index, perbandingan_linear = linear_search(arr, target)\n",
        "    index, perbandingan_binary = binary_search(arr, target)\n",
        "    index, perbandingan_jump = jump_search(arr, target)\n",
        "\n",
        "    # Menyusun hasil dalam bentuk tabel dengan pandas\n",
        "    data = {\n",
        "        \"Metode Pencarian\": [\"Linear Search\", \"Binary Search\", \"Jump Search\"],\n",
        "        \"Jumlah Perbandingan\": [perbandingan_linear, perbandingan_binary, perbandingan_jump]\n",
        "    }\n",
        "\n",
        "    df = pd.DataFrame(data)\n",
        "    df = df.set_index(\"Metode Pencarian\")\n",
        "    print(df.to_markdown())\n",
        "\n",
        "    min_comp = min(perbandingan_linear, perbandingan_binary, perbandingan_jump)\n",
        "    if min_comp == perbandingan_linear:\n",
        "        best_method = \"Linear Search\"\n",
        "    elif min_comp == perbandingan_binary:\n",
        "        best_method = \"Binary Search\"\n",
        "    else:\n",
        "        best_method = \"Jump Search\"\n",
        "\n",
        "    print(f\"\\nMetode pencarian yang paling efisien adalah {best_method} dengan {min_comp} perbandingan.\")\n",
        "\n",
        "if __name__ == \"__main__\":\n",
        "    main()\n"
      ],
      "metadata": {
        "colab": {
          "base_uri": "https://localhost:8080/"
        },
        "id": "4_ba_HclI9rh",
        "outputId": "78e26c74-557a-4f71-c801-07d0e019370b"
      },
      "execution_count": 12,
      "outputs": [
        {
          "output_type": "stream",
          "name": "stdout",
          "text": [
            "Mencari angka: 11\n",
            "\n",
            "Target ditemukan pada indeks 2\n",
            "\n",
            "| Metode Pencarian   |   Jumlah Perbandingan |\n",
            "|:-------------------|----------------------:|\n",
            "| Linear Search      |                     3 |\n",
            "| Binary Search      |                     5 |\n",
            "| Jump Search        |                     3 |\n",
            "\n",
            "Metode pencarian yang paling efisien adalah Linear Search dengan 3 perbandingan.\n"
          ]
        }
      ]
    },
    {
      "cell_type": "code",
      "source": [],
      "metadata": {
        "id": "-EhvAshzNs_h"
      },
      "execution_count": null,
      "outputs": []
    }
  ]
}